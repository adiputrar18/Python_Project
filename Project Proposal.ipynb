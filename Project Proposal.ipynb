{
 "cells": [
  {
   "cell_type": "markdown",
   "id": "7187a020",
   "metadata": {},
   "source": [
    "# TIL6022 Project Group 18 Proposal:\n",
    "# How did oil prices affect logistics performance in The Netherlands between 2021 and 2023"
   ]
  },
  {
   "cell_type": "markdown",
   "id": "f172bb0b",
   "metadata": {},
   "source": [
    "Members:\n",
    "**Adi Putra Rukmananda$^{a}$, Anh Tran$^{b}$, Fakhrinanisa Islah Birru$^{c}$, Rifan Fauzan Ghofir$^{d}$, and Wilona Septyola Br Surbakti$^{e}$**"
   ]
  },
  {
   "cell_type": "markdown",
   "id": "81db4464",
   "metadata": {},
   "source": [
    "Student Numbers: *$^{a}$5942365, $^{b}$6191282, $^{c}$5131014, $^{d}$5347076, $^{e}$6270069* "
   ]
  },
  {
   "cell_type": "markdown",
   "id": "a1185dc2",
   "metadata": {},
   "source": [
    "## Introduction"
   ]
  },
  {
   "cell_type": "markdown",
   "id": "8e827ca2",
   "metadata": {},
   "source": [
    "As the third largest oil producer (__[U.S Energy Information Administration, 2022](https://www.eia.gov/international/rankings/world)__), Russia has a big influence towards the global oil price. The geopolitical landscape, especially with the on-going war between Russia and Ukraine, has further strengthened this impact. As a result to the war, Ukraine imposed a ban on natural gas and oil exports in February 2024 (__[Gas Transmission System Operator of Ukraine, 2022](https://tsoua.com/en/news/ukraine-stops-exporting-natural-gas/)__), intensifying the energy crisis in Europe and leading to fluctuated change in oil prices. \n",
    "\n",
    "The main objective of this research is to see the impact and correlation between the change of oil prices on the logistics performance in the Netherlands before and after the Russia-Ukraine energy dispute in 2022. The Netherlands, as a key logistics hub in Europe and heavily dependent on fuel for its freight and transportation operations, was significantly impacted by the fluctuating oil prices caused by these geopolitical developments. \n",
    "  "
   ]
  },
  {
   "cell_type": "markdown",
   "id": "e7448b92",
   "metadata": {},
   "source": [
    "## Research Questions and Objectives"
   ]
  },
  {
   "cell_type": "markdown",
   "id": "a56c3d13",
   "metadata": {},
   "source": [
    "The main research question for this project is **how did oil prices affect logistics performance in The Netherlands between 2021 and 2023?**\n",
    "Following are the sub research questions of this project:\n",
    "1. How did the fluctuation in oil prices impact the total freight volume (ton) trend in the Netherlands   between 2021 and 2023?\n",
    "2. How did the fluctuation in oil prices impact the volume (ton) of freight transported in different transport modes in the Netherlands between 2021 and 2023?\n",
    "3. How did the total export value (USD thousand) from the Netherlands to EU countries and total import value (USD thousand) from the EU countries to the Netherlands  fluctuate in response to changes in oil prices between 2021 and 2023?\n",
    "\n",
    "\n",
    "The objectives of this project are:\n",
    "1. To visualize and examine the impact of oil price fluctuation on the changes in total freight volume (ton) in the Netherlands between 2021 and 2023.\n",
    "2. To visualize, compare, and determine the correlation between oil price fluctuations and the volume of freight transported across different modes of transportation (air, rail, inland waterway, sea, and road) in the Netherlands between 2021 and 2023.\n",
    "3. To visualize, sort, and compare the fluctuations in the total export value (USD thousand) from the Netherlands to five EU countries and total import value (USD thousand) from the five EU countries to the Netherlands fluctuate in response to changes in oil prices between 2021 and 2023.\n",
    "\n",
    "\n",
    "Timescale:  \n",
    "For conducting analysis, we use quarterly data from 2021 until 2023.\n",
    "\n",
    "Spatial scale:  \n",
    "The analysis will only focuses on the Netherlands.\n",
    "The international trade data will only focuses on top 5 countries with highest trade value with the Netherlands."
   ]
  },
  {
   "cell_type": "markdown",
   "id": "68d4809b",
   "metadata": {},
   "source": [
    "## Data Pipeline"
   ]
  },
  {
   "cell_type": "markdown",
   "id": "9af723df",
   "metadata": {},
   "source": [
    "![screenshot](data%20pipeline.png)"
   ]
  },
  {
   "cell_type": "markdown",
   "id": "36d8a18b",
   "metadata": {},
   "source": [
    "## Datasets"
   ]
  },
  {
   "cell_type": "markdown",
   "id": "9ef45fa5",
   "metadata": {},
   "source": [
    "- Crude oil prices: \n",
    "    - Cushing, OK WTI Spot Price FOB (Dollars per Barrel)\n",
    "https://www.eia.gov/dnav/pet/hist/LeafHandler.ashx?n=pet&s=rwtc&f=m  \n",
    "    - Europe Brent Spot Price FOB (Dollars per Barrel)\n",
    "https://www.eia.gov/dnav/pet/hist/LeafHandler.ashx?n=PET&s=RBRTE&f=M \n",
    "- Air transport: Air transport of goods by country\n",
    "https://ec.europa.eu/eurostat/databrowser/view/avia_gooc__custom_13108978/default/table?lang=en \n",
    "- Inland waterway transport:  Goods transport by inland waterways\n",
    "https://ec.europa.eu/eurostat/databrowser/view/iww_go_qnave__custom_13109022/default/table?lang=en\n",
    "- Maritime transport: Sea transport of goods\n",
    "https://ec.europa.eu/eurostat/databrowser/view/mar_go_qm__custom_13109050/default/table?lang=en\n",
    "- Railway transport: Goods transport by rail\n",
    "https://ec.europa.eu/eurostat/databrowser/view/rail_go_quartal__custom_13109085/default/table?lang=en\n",
    "- Road transport: Goods transport by road\n",
    "https://ec.europa.eu/eurostat/databrowser/view/road_go_tq_tott__custom_13109107/default/table?lang=en \n",
    "- International Trade (import and export)\n",
    "https://www.trademap.org/Index.aspx"
   ]
  },
  {
   "cell_type": "markdown",
   "id": "12005d53",
   "metadata": {},
   "source": [
    "## Reference"
   ]
  },
  {
   "cell_type": "markdown",
   "id": "6e9b8353",
   "metadata": {},
   "source": [
    "U.S. Energy Information and Administration 2022, *International - U.S. Energy Information and Administration (EIA)*, accessed 3 October 2024, <https://www.eia.gov/international/rankings/world>\n",
    "\n",
    "Gas Transmission System Operator of Ukraine 2022, *Ukraine Stops Exporting Natural Gas*, accessed 3 October 2024, <https://tsoua.com/en/news/ukraine-stops-exporting-natural-gas/>"
   ]
  }
 ],
 "metadata": {
  "kernelspec": {
   "display_name": "Python 3 (ipykernel)",
   "language": "python",
   "name": "python3"
  },
  "language_info": {
   "codemirror_mode": {
    "name": "ipython",
    "version": 3
   },
   "file_extension": ".py",
   "mimetype": "text/x-python",
   "name": "python",
   "nbconvert_exporter": "python",
   "pygments_lexer": "ipython3",
   "version": "3.12.3"
  }
 },
 "nbformat": 4,
 "nbformat_minor": 5
}
