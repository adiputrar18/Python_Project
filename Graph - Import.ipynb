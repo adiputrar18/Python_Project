{
 "cells": [
  {
   "cell_type": "markdown",
   "metadata": {},
   "source": [
    "### Import values to the Netherlands from other 5 EU countries"
   ]
  },
  {
   "cell_type": "code",
   "execution_count": 14,
   "metadata": {},
   "outputs": [
    {
     "data": {
      "text/html": [
       "<style type=\"text/css\">\n",
       "#T_ab23b th {\n",
       "  border: 1px solid black;\n",
       "}\n",
       "#T_ab23b td {\n",
       "  border: 1px solid black;\n",
       "}\n",
       "</style>\n",
       "<table id=\"T_ab23b\">\n",
       "  <thead>\n",
       "    <tr>\n",
       "      <th class=\"blank level0\" >&nbsp;</th>\n",
       "      <th id=\"T_ab23b_level0_col0\" class=\"col_heading level0 col0\" >Year, Quarter</th>\n",
       "      <th id=\"T_ab23b_level0_col1\" class=\"col_heading level0 col1\" >Price</th>\n",
       "      <th id=\"T_ab23b_level0_col2\" class=\"col_heading level0 col2\" >Import Germany</th>\n",
       "      <th id=\"T_ab23b_level0_col3\" class=\"col_heading level0 col3\" >Import Belgium</th>\n",
       "      <th id=\"T_ab23b_level0_col4\" class=\"col_heading level0 col4\" >Import France</th>\n",
       "      <th id=\"T_ab23b_level0_col5\" class=\"col_heading level0 col5\" >Import Italy</th>\n",
       "      <th id=\"T_ab23b_level0_col6\" class=\"col_heading level0 col6\" >Import Poland</th>\n",
       "    </tr>\n",
       "  </thead>\n",
       "  <tbody>\n",
       "    <tr>\n",
       "      <th id=\"T_ab23b_level0_row0\" class=\"row_heading level0 row0\" >0</th>\n",
       "      <td id=\"T_ab23b_row0_col0\" class=\"data row0 col0\" >2021 Q1</td>\n",
       "      <td id=\"T_ab23b_row0_col1\" class=\"data row0 col1\" >60.820000</td>\n",
       "      <td id=\"T_ab23b_row0_col2\" class=\"data row0 col2\" >26.110000</td>\n",
       "      <td id=\"T_ab23b_row0_col3\" class=\"data row0 col3\" >13.610000</td>\n",
       "      <td id=\"T_ab23b_row0_col4\" class=\"data row0 col4\" >5.390000</td>\n",
       "      <td id=\"T_ab23b_row0_col5\" class=\"data row0 col5\" >4.000000</td>\n",
       "      <td id=\"T_ab23b_row0_col6\" class=\"data row0 col6\" >3.390000</td>\n",
       "    </tr>\n",
       "    <tr>\n",
       "      <th id=\"T_ab23b_level0_row1\" class=\"row_heading level0 row1\" >1</th>\n",
       "      <td id=\"T_ab23b_row1_col0\" class=\"data row1 col0\" >2021 Q2</td>\n",
       "      <td id=\"T_ab23b_row1_col1\" class=\"data row1 col1\" >68.830000</td>\n",
       "      <td id=\"T_ab23b_row1_col2\" class=\"data row1 col2\" >27.340000</td>\n",
       "      <td id=\"T_ab23b_row1_col3\" class=\"data row1 col3\" >15.080000</td>\n",
       "      <td id=\"T_ab23b_row1_col4\" class=\"data row1 col4\" >5.640000</td>\n",
       "      <td id=\"T_ab23b_row1_col5\" class=\"data row1 col5\" >4.520000</td>\n",
       "      <td id=\"T_ab23b_row1_col6\" class=\"data row1 col6\" >3.490000</td>\n",
       "    </tr>\n",
       "    <tr>\n",
       "      <th id=\"T_ab23b_level0_row2\" class=\"row_heading level0 row2\" >2</th>\n",
       "      <td id=\"T_ab23b_row2_col0\" class=\"data row2 col0\" >2021 Q3</td>\n",
       "      <td id=\"T_ab23b_row2_col1\" class=\"data row2 col1\" >73.470000</td>\n",
       "      <td id=\"T_ab23b_row2_col2\" class=\"data row2 col2\" >26.680000</td>\n",
       "      <td id=\"T_ab23b_row2_col3\" class=\"data row2 col3\" >15.760000</td>\n",
       "      <td id=\"T_ab23b_row2_col4\" class=\"data row2 col4\" >5.580000</td>\n",
       "      <td id=\"T_ab23b_row2_col5\" class=\"data row2 col5\" >4.190000</td>\n",
       "      <td id=\"T_ab23b_row2_col6\" class=\"data row2 col6\" >3.390000</td>\n",
       "    </tr>\n",
       "    <tr>\n",
       "      <th id=\"T_ab23b_level0_row3\" class=\"row_heading level0 row3\" >3</th>\n",
       "      <td id=\"T_ab23b_row3_col0\" class=\"data row3 col0\" >2021 Q4</td>\n",
       "      <td id=\"T_ab23b_row3_col1\" class=\"data row3 col1\" >79.590000</td>\n",
       "      <td id=\"T_ab23b_row3_col2\" class=\"data row3 col2\" >28.630000</td>\n",
       "      <td id=\"T_ab23b_row3_col3\" class=\"data row3 col3\" >16.880000</td>\n",
       "      <td id=\"T_ab23b_row3_col4\" class=\"data row3 col4\" >6.440000</td>\n",
       "      <td id=\"T_ab23b_row3_col5\" class=\"data row3 col5\" >4.470000</td>\n",
       "      <td id=\"T_ab23b_row3_col6\" class=\"data row3 col6\" >4.170000</td>\n",
       "    </tr>\n",
       "    <tr>\n",
       "      <th id=\"T_ab23b_level0_row4\" class=\"row_heading level0 row4\" >4</th>\n",
       "      <td id=\"T_ab23b_row4_col0\" class=\"data row4 col0\" >2022 Q1</td>\n",
       "      <td id=\"T_ab23b_row4_col1\" class=\"data row4 col1\" >100.300000</td>\n",
       "      <td id=\"T_ab23b_row4_col2\" class=\"data row4 col2\" >28.790000</td>\n",
       "      <td id=\"T_ab23b_row4_col3\" class=\"data row4 col3\" >17.290000</td>\n",
       "      <td id=\"T_ab23b_row4_col4\" class=\"data row4 col4\" >6.430000</td>\n",
       "      <td id=\"T_ab23b_row4_col5\" class=\"data row4 col5\" >4.320000</td>\n",
       "      <td id=\"T_ab23b_row4_col6\" class=\"data row4 col6\" >4.100000</td>\n",
       "    </tr>\n",
       "    <tr>\n",
       "      <th id=\"T_ab23b_level0_row5\" class=\"row_heading level0 row5\" >5</th>\n",
       "      <td id=\"T_ab23b_row5_col0\" class=\"data row5 col0\" >2022 Q2</td>\n",
       "      <td id=\"T_ab23b_row5_col1\" class=\"data row5 col1\" >113.540000</td>\n",
       "      <td id=\"T_ab23b_row5_col2\" class=\"data row5 col2\" >29.130000</td>\n",
       "      <td id=\"T_ab23b_row5_col3\" class=\"data row5 col3\" >18.060000</td>\n",
       "      <td id=\"T_ab23b_row5_col4\" class=\"data row5 col4\" >6.630000</td>\n",
       "      <td id=\"T_ab23b_row5_col5\" class=\"data row5 col5\" >4.650000</td>\n",
       "      <td id=\"T_ab23b_row5_col6\" class=\"data row5 col6\" >4.180000</td>\n",
       "    </tr>\n",
       "    <tr>\n",
       "      <th id=\"T_ab23b_level0_row6\" class=\"row_heading level0 row6\" >6</th>\n",
       "      <td id=\"T_ab23b_row6_col0\" class=\"data row6 col0\" >2022 Q3</td>\n",
       "      <td id=\"T_ab23b_row6_col1\" class=\"data row6 col1\" >100.710000</td>\n",
       "      <td id=\"T_ab23b_row6_col2\" class=\"data row6 col2\" >26.160000</td>\n",
       "      <td id=\"T_ab23b_row6_col3\" class=\"data row6 col3\" >17.420000</td>\n",
       "      <td id=\"T_ab23b_row6_col4\" class=\"data row6 col4\" >6.550000</td>\n",
       "      <td id=\"T_ab23b_row6_col5\" class=\"data row6 col5\" >4.030000</td>\n",
       "      <td id=\"T_ab23b_row6_col6\" class=\"data row6 col6\" >4.040000</td>\n",
       "    </tr>\n",
       "    <tr>\n",
       "      <th id=\"T_ab23b_level0_row7\" class=\"row_heading level0 row7\" >7</th>\n",
       "      <td id=\"T_ab23b_row7_col0\" class=\"data row7 col0\" >2022 Q4</td>\n",
       "      <td id=\"T_ab23b_row7_col1\" class=\"data row7 col1\" >88.560000</td>\n",
       "      <td id=\"T_ab23b_row7_col2\" class=\"data row7 col2\" >28.880000</td>\n",
       "      <td id=\"T_ab23b_row7_col3\" class=\"data row7 col3\" >17.560000</td>\n",
       "      <td id=\"T_ab23b_row7_col4\" class=\"data row7 col4\" >6.620000</td>\n",
       "      <td id=\"T_ab23b_row7_col5\" class=\"data row7 col5\" >4.820000</td>\n",
       "      <td id=\"T_ab23b_row7_col6\" class=\"data row7 col6\" >4.300000</td>\n",
       "    </tr>\n",
       "    <tr>\n",
       "      <th id=\"T_ab23b_level0_row8\" class=\"row_heading level0 row8\" >8</th>\n",
       "      <td id=\"T_ab23b_row8_col0\" class=\"data row8 col0\" >2023 Q1</td>\n",
       "      <td id=\"T_ab23b_row8_col1\" class=\"data row8 col1\" >81.170000</td>\n",
       "      <td id=\"T_ab23b_row8_col2\" class=\"data row8 col2\" >30.870000</td>\n",
       "      <td id=\"T_ab23b_row8_col3\" class=\"data row8 col3\" >16.490000</td>\n",
       "      <td id=\"T_ab23b_row8_col4\" class=\"data row8 col4\" >6.250000</td>\n",
       "      <td id=\"T_ab23b_row8_col5\" class=\"data row8 col5\" >4.910000</td>\n",
       "      <td id=\"T_ab23b_row8_col6\" class=\"data row8 col6\" >4.210000</td>\n",
       "    </tr>\n",
       "    <tr>\n",
       "      <th id=\"T_ab23b_level0_row9\" class=\"row_heading level0 row9\" >9</th>\n",
       "      <td id=\"T_ab23b_row9_col0\" class=\"data row9 col0\" >2023 Q2</td>\n",
       "      <td id=\"T_ab23b_row9_col1\" class=\"data row9 col1\" >78.320000</td>\n",
       "      <td id=\"T_ab23b_row9_col2\" class=\"data row9 col2\" >30.270000</td>\n",
       "      <td id=\"T_ab23b_row9_col3\" class=\"data row9 col3\" >17.680000</td>\n",
       "      <td id=\"T_ab23b_row9_col4\" class=\"data row9 col4\" >5.980000</td>\n",
       "      <td id=\"T_ab23b_row9_col5\" class=\"data row9 col5\" >4.900000</td>\n",
       "      <td id=\"T_ab23b_row9_col6\" class=\"data row9 col6\" >4.090000</td>\n",
       "    </tr>\n",
       "    <tr>\n",
       "      <th id=\"T_ab23b_level0_row10\" class=\"row_heading level0 row10\" >10</th>\n",
       "      <td id=\"T_ab23b_row10_col0\" class=\"data row10 col0\" >2023 Q3</td>\n",
       "      <td id=\"T_ab23b_row10_col1\" class=\"data row10 col1\" >86.660000</td>\n",
       "      <td id=\"T_ab23b_row10_col2\" class=\"data row10 col2\" >28.220000</td>\n",
       "      <td id=\"T_ab23b_row10_col3\" class=\"data row10 col3\" >16.370000</td>\n",
       "      <td id=\"T_ab23b_row10_col4\" class=\"data row10 col4\" >5.450000</td>\n",
       "      <td id=\"T_ab23b_row10_col5\" class=\"data row10 col5\" >4.550000</td>\n",
       "      <td id=\"T_ab23b_row10_col6\" class=\"data row10 col6\" >4.130000</td>\n",
       "    </tr>\n",
       "    <tr>\n",
       "      <th id=\"T_ab23b_level0_row11\" class=\"row_heading level0 row11\" >11</th>\n",
       "      <td id=\"T_ab23b_row11_col0\" class=\"data row11 col0\" >2023 Q4</td>\n",
       "      <td id=\"T_ab23b_row11_col1\" class=\"data row11 col1\" >83.720000</td>\n",
       "      <td id=\"T_ab23b_row11_col2\" class=\"data row11 col2\" >28.930000</td>\n",
       "      <td id=\"T_ab23b_row11_col3\" class=\"data row11 col3\" >16.290000</td>\n",
       "      <td id=\"T_ab23b_row11_col4\" class=\"data row11 col4\" >5.700000</td>\n",
       "      <td id=\"T_ab23b_row11_col5\" class=\"data row11 col5\" >4.930000</td>\n",
       "      <td id=\"T_ab23b_row11_col6\" class=\"data row11 col6\" >4.410000</td>\n",
       "    </tr>\n",
       "  </tbody>\n",
       "</table>\n"
      ],
      "text/plain": [
       "<pandas.io.formats.style.Styler at 0x29ded9a5520>"
      ]
     },
     "execution_count": 14,
     "metadata": {},
     "output_type": "execute_result"
    }
   ],
   "source": [
    "import pandas as pd\n",
    "\n",
    "# Updated file path\n",
    "file_path = r'C:\\Users\\Icha\\OneDrive - Delft University of Technology\\02 Course\\Q1\\TIL Python Programming\\Project\\TIL Python Programming - Group 18\\Visualization\\Oil Price vs Import\\Summarized Data.csv'\n",
    "\n",
    "# Load the Summarized dataset into a DataFrame for Import value information\n",
    "export_data = pd.read_csv(file_path, usecols=['Year, Quarter', 'Price', 'Import Germany', 'Import Belgium', 'Import France', 'Import Italy', 'Import Poland']).dropna()\n",
    "\n",
    "# Apply border styling\n",
    "styled_df = export_data.style.set_table_styles(\n",
    "    [{'selector': 'th', 'props': [('border', '1px solid black')]},\n",
    "     {'selector': 'td', 'props': [('border', '1px solid black')]}]\n",
    ")\n",
    "\n",
    "# Display the styled table\n",
    "styled_df\n"
   ]
  },
  {
   "cell_type": "code",
   "execution_count": 3,
   "metadata": {},
   "outputs": [
    {
     "data": {
      "text/html": [
       "<style type=\"text/css\">\n",
       "#T_127a3 th {\n",
       "  border: 1px solid black;\n",
       "}\n",
       "#T_127a3 td {\n",
       "  border: 1px solid black;\n",
       "}\n",
       "</style>\n",
       "<table id=\"T_127a3\">\n",
       "  <thead>\n",
       "    <tr>\n",
       "      <th class=\"blank level0\" >&nbsp;</th>\n",
       "      <th id=\"T_127a3_level0_col0\" class=\"col_heading level0 col0\" >Country</th>\n",
       "      <th id=\"T_127a3_level0_col1\" class=\"col_heading level0 col1\" >Total Import Value to the Netherlands</th>\n",
       "    </tr>\n",
       "  </thead>\n",
       "  <tbody>\n",
       "    <tr>\n",
       "      <th id=\"T_127a3_level0_row0\" class=\"row_heading level0 row0\" >0</th>\n",
       "      <td id=\"T_127a3_row0_col0\" class=\"data row0 col0\" >Import Germany</td>\n",
       "      <td id=\"T_127a3_row0_col1\" class=\"data row0 col1\" >340.010000</td>\n",
       "    </tr>\n",
       "    <tr>\n",
       "      <th id=\"T_127a3_level0_row1\" class=\"row_heading level0 row1\" >1</th>\n",
       "      <td id=\"T_127a3_row1_col0\" class=\"data row1 col0\" >Import Belgium</td>\n",
       "      <td id=\"T_127a3_row1_col1\" class=\"data row1 col1\" >198.490000</td>\n",
       "    </tr>\n",
       "    <tr>\n",
       "      <th id=\"T_127a3_level0_row2\" class=\"row_heading level0 row2\" >2</th>\n",
       "      <td id=\"T_127a3_row2_col0\" class=\"data row2 col0\" >Import France</td>\n",
       "      <td id=\"T_127a3_row2_col1\" class=\"data row2 col1\" >72.660000</td>\n",
       "    </tr>\n",
       "    <tr>\n",
       "      <th id=\"T_127a3_level0_row3\" class=\"row_heading level0 row3\" >3</th>\n",
       "      <td id=\"T_127a3_row3_col0\" class=\"data row3 col0\" >Import Italy</td>\n",
       "      <td id=\"T_127a3_row3_col1\" class=\"data row3 col1\" >54.290000</td>\n",
       "    </tr>\n",
       "    <tr>\n",
       "      <th id=\"T_127a3_level0_row4\" class=\"row_heading level0 row4\" >4</th>\n",
       "      <td id=\"T_127a3_row4_col0\" class=\"data row4 col0\" >Import Poland</td>\n",
       "      <td id=\"T_127a3_row4_col1\" class=\"data row4 col1\" >47.900000</td>\n",
       "    </tr>\n",
       "  </tbody>\n",
       "</table>\n"
      ],
      "text/plain": [
       "<pandas.io.formats.style.Styler at 0x29de8ae9fd0>"
      ]
     },
     "execution_count": 3,
     "metadata": {},
     "output_type": "execute_result"
    }
   ],
   "source": [
    "total_imports = export_data[['Import Germany', 'Import Belgium', 'Import France', 'Import Italy', 'Import Poland']].sum()\n",
    "\n",
    "sum_imports_df = pd.DataFrame({\n",
    "    'Country': total_imports.index,\n",
    "    'Total Import Value to the Netherlands': total_imports.values\n",
    "})\n",
    "\n",
    "sum_imports_df = sum_imports_df.sort_values(by='Total Import Value to the Netherlands', ascending = False)\n",
    "\n",
    "sum_imports_df.reset_index(drop = True, inplace = True)\n",
    "\n",
    "styled_sum_df = sum_imports_df.style.set_table_styles(\n",
    "    [{'selector': 'th', 'props': [('border', '1px solid black')]},\n",
    "     {'selector': 'td', 'props': [('border', '1px solid black')]}]\n",
    ")\n",
    "\n",
    "styled_sum_df"
   ]
  },
  {
   "cell_type": "markdown",
   "metadata": {},
   "source": [
    "When examining the total import value to the Netherlands from these five EU countries individually, it highlights how economic integration significantly influence import trends. Similar to export value, countries that are geographically closer to the Netherlands and have stronger infrastructure connections, like Germany and Belgium, generally account for higher import values. This pattern also emphasizes the importance of major EU economies, such as Germany and France, as key trade partners, while smaller or more distant markets, like Italy and Poland, play a lesser role in the Dutch import strategy."
   ]
  },
  {
   "cell_type": "code",
   "execution_count": null,
   "metadata": {},
   "outputs": [],
   "source": []
  },
  {
   "cell_type": "code",
   "execution_count": 15,
   "metadata": {},
   "outputs": [
    {
     "data": {
      "application/vnd.plotly.v1+json": {
       "config": {
        "plotlyServerURL": "https://plot.ly"
       },
       "data": [
        {
         "mode": "lines",
         "name": "Oil Price",
         "type": "scatter",
         "x": [
          "2021 Q1",
          "2021 Q2",
          "2021 Q3",
          "2021 Q4",
          "2022 Q1",
          "2022 Q2",
          "2022 Q3",
          "2022 Q4",
          "2023 Q1",
          "2023 Q2",
          "2023 Q3",
          "2023 Q4"
         ],
         "xaxis": "x",
         "y": [
          60.82,
          68.83,
          73.47,
          79.59,
          100.3,
          113.54,
          100.71,
          88.56,
          81.17,
          78.32,
          86.66,
          83.72
         ],
         "yaxis": "y2"
        },
        {
         "mode": "lines",
         "name": "Import Germany",
         "type": "scatter",
         "x": [
          "2021 Q1",
          "2021 Q2",
          "2021 Q3",
          "2021 Q4",
          "2022 Q1",
          "2022 Q2",
          "2022 Q3",
          "2022 Q4",
          "2023 Q1",
          "2023 Q2",
          "2023 Q3",
          "2023 Q4"
         ],
         "xaxis": "x",
         "y": [
          26.11,
          27.34,
          26.68,
          28.63,
          28.79,
          29.13,
          26.16,
          28.88,
          30.87,
          30.27,
          28.22,
          28.93
         ],
         "yaxis": "y"
        },
        {
         "mode": "lines",
         "name": "Import Belgium",
         "type": "scatter",
         "x": [
          "2021 Q1",
          "2021 Q2",
          "2021 Q3",
          "2021 Q4",
          "2022 Q1",
          "2022 Q2",
          "2022 Q3",
          "2022 Q4",
          "2023 Q1",
          "2023 Q2",
          "2023 Q3",
          "2023 Q4"
         ],
         "xaxis": "x",
         "y": [
          13.61,
          15.08,
          15.76,
          16.88,
          17.29,
          18.06,
          17.42,
          17.56,
          16.49,
          17.68,
          16.37,
          16.29
         ],
         "yaxis": "y"
        },
        {
         "mode": "lines",
         "name": "Import France",
         "type": "scatter",
         "x": [
          "2021 Q1",
          "2021 Q2",
          "2021 Q3",
          "2021 Q4",
          "2022 Q1",
          "2022 Q2",
          "2022 Q3",
          "2022 Q4",
          "2023 Q1",
          "2023 Q2",
          "2023 Q3",
          "2023 Q4"
         ],
         "xaxis": "x",
         "y": [
          5.39,
          5.64,
          5.58,
          6.44,
          6.43,
          6.63,
          6.55,
          6.62,
          6.25,
          5.98,
          5.45,
          5.7
         ],
         "yaxis": "y"
        },
        {
         "mode": "lines",
         "name": "Import Italy",
         "type": "scatter",
         "x": [
          "2021 Q1",
          "2021 Q2",
          "2021 Q3",
          "2021 Q4",
          "2022 Q1",
          "2022 Q2",
          "2022 Q3",
          "2022 Q4",
          "2023 Q1",
          "2023 Q2",
          "2023 Q3",
          "2023 Q4"
         ],
         "xaxis": "x",
         "y": [
          4,
          4.52,
          4.19,
          4.47,
          4.32,
          4.65,
          4.03,
          4.82,
          4.91,
          4.9,
          4.55,
          4.93
         ],
         "yaxis": "y"
        },
        {
         "mode": "lines",
         "name": "Import Poland",
         "type": "scatter",
         "x": [
          "2021 Q1",
          "2021 Q2",
          "2021 Q3",
          "2021 Q4",
          "2022 Q1",
          "2022 Q2",
          "2022 Q3",
          "2022 Q4",
          "2023 Q1",
          "2023 Q2",
          "2023 Q3",
          "2023 Q4"
         ],
         "xaxis": "x",
         "y": [
          3.39,
          3.49,
          3.39,
          4.17,
          4.1,
          4.18,
          4.04,
          4.3,
          4.21,
          4.09,
          4.13,
          4.41
         ],
         "yaxis": "y"
        }
       ],
       "layout": {
        "height": 600,
        "template": {
         "data": {
          "bar": [
           {
            "error_x": {
             "color": "#2a3f5f"
            },
            "error_y": {
             "color": "#2a3f5f"
            },
            "marker": {
             "line": {
              "color": "#E5ECF6",
              "width": 0.5
             },
             "pattern": {
              "fillmode": "overlay",
              "size": 10,
              "solidity": 0.2
             }
            },
            "type": "bar"
           }
          ],
          "barpolar": [
           {
            "marker": {
             "line": {
              "color": "#E5ECF6",
              "width": 0.5
             },
             "pattern": {
              "fillmode": "overlay",
              "size": 10,
              "solidity": 0.2
             }
            },
            "type": "barpolar"
           }
          ],
          "carpet": [
           {
            "aaxis": {
             "endlinecolor": "#2a3f5f",
             "gridcolor": "white",
             "linecolor": "white",
             "minorgridcolor": "white",
             "startlinecolor": "#2a3f5f"
            },
            "baxis": {
             "endlinecolor": "#2a3f5f",
             "gridcolor": "white",
             "linecolor": "white",
             "minorgridcolor": "white",
             "startlinecolor": "#2a3f5f"
            },
            "type": "carpet"
           }
          ],
          "choropleth": [
           {
            "colorbar": {
             "outlinewidth": 0,
             "ticks": ""
            },
            "type": "choropleth"
           }
          ],
          "contour": [
           {
            "colorbar": {
             "outlinewidth": 0,
             "ticks": ""
            },
            "colorscale": [
             [
              0,
              "#0d0887"
             ],
             [
              0.1111111111111111,
              "#46039f"
             ],
             [
              0.2222222222222222,
              "#7201a8"
             ],
             [
              0.3333333333333333,
              "#9c179e"
             ],
             [
              0.4444444444444444,
              "#bd3786"
             ],
             [
              0.5555555555555556,
              "#d8576b"
             ],
             [
              0.6666666666666666,
              "#ed7953"
             ],
             [
              0.7777777777777778,
              "#fb9f3a"
             ],
             [
              0.8888888888888888,
              "#fdca26"
             ],
             [
              1,
              "#f0f921"
             ]
            ],
            "type": "contour"
           }
          ],
          "contourcarpet": [
           {
            "colorbar": {
             "outlinewidth": 0,
             "ticks": ""
            },
            "type": "contourcarpet"
           }
          ],
          "heatmap": [
           {
            "colorbar": {
             "outlinewidth": 0,
             "ticks": ""
            },
            "colorscale": [
             [
              0,
              "#0d0887"
             ],
             [
              0.1111111111111111,
              "#46039f"
             ],
             [
              0.2222222222222222,
              "#7201a8"
             ],
             [
              0.3333333333333333,
              "#9c179e"
             ],
             [
              0.4444444444444444,
              "#bd3786"
             ],
             [
              0.5555555555555556,
              "#d8576b"
             ],
             [
              0.6666666666666666,
              "#ed7953"
             ],
             [
              0.7777777777777778,
              "#fb9f3a"
             ],
             [
              0.8888888888888888,
              "#fdca26"
             ],
             [
              1,
              "#f0f921"
             ]
            ],
            "type": "heatmap"
           }
          ],
          "heatmapgl": [
           {
            "colorbar": {
             "outlinewidth": 0,
             "ticks": ""
            },
            "colorscale": [
             [
              0,
              "#0d0887"
             ],
             [
              0.1111111111111111,
              "#46039f"
             ],
             [
              0.2222222222222222,
              "#7201a8"
             ],
             [
              0.3333333333333333,
              "#9c179e"
             ],
             [
              0.4444444444444444,
              "#bd3786"
             ],
             [
              0.5555555555555556,
              "#d8576b"
             ],
             [
              0.6666666666666666,
              "#ed7953"
             ],
             [
              0.7777777777777778,
              "#fb9f3a"
             ],
             [
              0.8888888888888888,
              "#fdca26"
             ],
             [
              1,
              "#f0f921"
             ]
            ],
            "type": "heatmapgl"
           }
          ],
          "histogram": [
           {
            "marker": {
             "pattern": {
              "fillmode": "overlay",
              "size": 10,
              "solidity": 0.2
             }
            },
            "type": "histogram"
           }
          ],
          "histogram2d": [
           {
            "colorbar": {
             "outlinewidth": 0,
             "ticks": ""
            },
            "colorscale": [
             [
              0,
              "#0d0887"
             ],
             [
              0.1111111111111111,
              "#46039f"
             ],
             [
              0.2222222222222222,
              "#7201a8"
             ],
             [
              0.3333333333333333,
              "#9c179e"
             ],
             [
              0.4444444444444444,
              "#bd3786"
             ],
             [
              0.5555555555555556,
              "#d8576b"
             ],
             [
              0.6666666666666666,
              "#ed7953"
             ],
             [
              0.7777777777777778,
              "#fb9f3a"
             ],
             [
              0.8888888888888888,
              "#fdca26"
             ],
             [
              1,
              "#f0f921"
             ]
            ],
            "type": "histogram2d"
           }
          ],
          "histogram2dcontour": [
           {
            "colorbar": {
             "outlinewidth": 0,
             "ticks": ""
            },
            "colorscale": [
             [
              0,
              "#0d0887"
             ],
             [
              0.1111111111111111,
              "#46039f"
             ],
             [
              0.2222222222222222,
              "#7201a8"
             ],
             [
              0.3333333333333333,
              "#9c179e"
             ],
             [
              0.4444444444444444,
              "#bd3786"
             ],
             [
              0.5555555555555556,
              "#d8576b"
             ],
             [
              0.6666666666666666,
              "#ed7953"
             ],
             [
              0.7777777777777778,
              "#fb9f3a"
             ],
             [
              0.8888888888888888,
              "#fdca26"
             ],
             [
              1,
              "#f0f921"
             ]
            ],
            "type": "histogram2dcontour"
           }
          ],
          "mesh3d": [
           {
            "colorbar": {
             "outlinewidth": 0,
             "ticks": ""
            },
            "type": "mesh3d"
           }
          ],
          "parcoords": [
           {
            "line": {
             "colorbar": {
              "outlinewidth": 0,
              "ticks": ""
             }
            },
            "type": "parcoords"
           }
          ],
          "pie": [
           {
            "automargin": true,
            "type": "pie"
           }
          ],
          "scatter": [
           {
            "fillpattern": {
             "fillmode": "overlay",
             "size": 10,
             "solidity": 0.2
            },
            "type": "scatter"
           }
          ],
          "scatter3d": [
           {
            "line": {
             "colorbar": {
              "outlinewidth": 0,
              "ticks": ""
             }
            },
            "marker": {
             "colorbar": {
              "outlinewidth": 0,
              "ticks": ""
             }
            },
            "type": "scatter3d"
           }
          ],
          "scattercarpet": [
           {
            "marker": {
             "colorbar": {
              "outlinewidth": 0,
              "ticks": ""
             }
            },
            "type": "scattercarpet"
           }
          ],
          "scattergeo": [
           {
            "marker": {
             "colorbar": {
              "outlinewidth": 0,
              "ticks": ""
             }
            },
            "type": "scattergeo"
           }
          ],
          "scattergl": [
           {
            "marker": {
             "colorbar": {
              "outlinewidth": 0,
              "ticks": ""
             }
            },
            "type": "scattergl"
           }
          ],
          "scattermapbox": [
           {
            "marker": {
             "colorbar": {
              "outlinewidth": 0,
              "ticks": ""
             }
            },
            "type": "scattermapbox"
           }
          ],
          "scatterpolar": [
           {
            "marker": {
             "colorbar": {
              "outlinewidth": 0,
              "ticks": ""
             }
            },
            "type": "scatterpolar"
           }
          ],
          "scatterpolargl": [
           {
            "marker": {
             "colorbar": {
              "outlinewidth": 0,
              "ticks": ""
             }
            },
            "type": "scatterpolargl"
           }
          ],
          "scatterternary": [
           {
            "marker": {
             "colorbar": {
              "outlinewidth": 0,
              "ticks": ""
             }
            },
            "type": "scatterternary"
           }
          ],
          "surface": [
           {
            "colorbar": {
             "outlinewidth": 0,
             "ticks": ""
            },
            "colorscale": [
             [
              0,
              "#0d0887"
             ],
             [
              0.1111111111111111,
              "#46039f"
             ],
             [
              0.2222222222222222,
              "#7201a8"
             ],
             [
              0.3333333333333333,
              "#9c179e"
             ],
             [
              0.4444444444444444,
              "#bd3786"
             ],
             [
              0.5555555555555556,
              "#d8576b"
             ],
             [
              0.6666666666666666,
              "#ed7953"
             ],
             [
              0.7777777777777778,
              "#fb9f3a"
             ],
             [
              0.8888888888888888,
              "#fdca26"
             ],
             [
              1,
              "#f0f921"
             ]
            ],
            "type": "surface"
           }
          ],
          "table": [
           {
            "cells": {
             "fill": {
              "color": "#EBF0F8"
             },
             "line": {
              "color": "white"
             }
            },
            "header": {
             "fill": {
              "color": "#C8D4E3"
             },
             "line": {
              "color": "white"
             }
            },
            "type": "table"
           }
          ]
         },
         "layout": {
          "annotationdefaults": {
           "arrowcolor": "#2a3f5f",
           "arrowhead": 0,
           "arrowwidth": 1
          },
          "autotypenumbers": "strict",
          "coloraxis": {
           "colorbar": {
            "outlinewidth": 0,
            "ticks": ""
           }
          },
          "colorscale": {
           "diverging": [
            [
             0,
             "#8e0152"
            ],
            [
             0.1,
             "#c51b7d"
            ],
            [
             0.2,
             "#de77ae"
            ],
            [
             0.3,
             "#f1b6da"
            ],
            [
             0.4,
             "#fde0ef"
            ],
            [
             0.5,
             "#f7f7f7"
            ],
            [
             0.6,
             "#e6f5d0"
            ],
            [
             0.7,
             "#b8e186"
            ],
            [
             0.8,
             "#7fbc41"
            ],
            [
             0.9,
             "#4d9221"
            ],
            [
             1,
             "#276419"
            ]
           ],
           "sequential": [
            [
             0,
             "#0d0887"
            ],
            [
             0.1111111111111111,
             "#46039f"
            ],
            [
             0.2222222222222222,
             "#7201a8"
            ],
            [
             0.3333333333333333,
             "#9c179e"
            ],
            [
             0.4444444444444444,
             "#bd3786"
            ],
            [
             0.5555555555555556,
             "#d8576b"
            ],
            [
             0.6666666666666666,
             "#ed7953"
            ],
            [
             0.7777777777777778,
             "#fb9f3a"
            ],
            [
             0.8888888888888888,
             "#fdca26"
            ],
            [
             1,
             "#f0f921"
            ]
           ],
           "sequentialminus": [
            [
             0,
             "#0d0887"
            ],
            [
             0.1111111111111111,
             "#46039f"
            ],
            [
             0.2222222222222222,
             "#7201a8"
            ],
            [
             0.3333333333333333,
             "#9c179e"
            ],
            [
             0.4444444444444444,
             "#bd3786"
            ],
            [
             0.5555555555555556,
             "#d8576b"
            ],
            [
             0.6666666666666666,
             "#ed7953"
            ],
            [
             0.7777777777777778,
             "#fb9f3a"
            ],
            [
             0.8888888888888888,
             "#fdca26"
            ],
            [
             1,
             "#f0f921"
            ]
           ]
          },
          "colorway": [
           "#636efa",
           "#EF553B",
           "#00cc96",
           "#ab63fa",
           "#FFA15A",
           "#19d3f3",
           "#FF6692",
           "#B6E880",
           "#FF97FF",
           "#FECB52"
          ],
          "font": {
           "color": "#2a3f5f"
          },
          "geo": {
           "bgcolor": "white",
           "lakecolor": "white",
           "landcolor": "#E5ECF6",
           "showlakes": true,
           "showland": true,
           "subunitcolor": "white"
          },
          "hoverlabel": {
           "align": "left"
          },
          "hovermode": "closest",
          "mapbox": {
           "style": "light"
          },
          "paper_bgcolor": "white",
          "plot_bgcolor": "#E5ECF6",
          "polar": {
           "angularaxis": {
            "gridcolor": "white",
            "linecolor": "white",
            "ticks": ""
           },
           "bgcolor": "#E5ECF6",
           "radialaxis": {
            "gridcolor": "white",
            "linecolor": "white",
            "ticks": ""
           }
          },
          "scene": {
           "xaxis": {
            "backgroundcolor": "#E5ECF6",
            "gridcolor": "white",
            "gridwidth": 2,
            "linecolor": "white",
            "showbackground": true,
            "ticks": "",
            "zerolinecolor": "white"
           },
           "yaxis": {
            "backgroundcolor": "#E5ECF6",
            "gridcolor": "white",
            "gridwidth": 2,
            "linecolor": "white",
            "showbackground": true,
            "ticks": "",
            "zerolinecolor": "white"
           },
           "zaxis": {
            "backgroundcolor": "#E5ECF6",
            "gridcolor": "white",
            "gridwidth": 2,
            "linecolor": "white",
            "showbackground": true,
            "ticks": "",
            "zerolinecolor": "white"
           }
          },
          "shapedefaults": {
           "line": {
            "color": "#2a3f5f"
           }
          },
          "ternary": {
           "aaxis": {
            "gridcolor": "white",
            "linecolor": "white",
            "ticks": ""
           },
           "baxis": {
            "gridcolor": "white",
            "linecolor": "white",
            "ticks": ""
           },
           "bgcolor": "#E5ECF6",
           "caxis": {
            "gridcolor": "white",
            "linecolor": "white",
            "ticks": ""
           }
          },
          "title": {
           "x": 0.05
          },
          "xaxis": {
           "automargin": true,
           "gridcolor": "white",
           "linecolor": "white",
           "ticks": "",
           "title": {
            "standoff": 15
           },
           "zerolinecolor": "white",
           "zerolinewidth": 2
          },
          "yaxis": {
           "automargin": true,
           "gridcolor": "white",
           "linecolor": "white",
           "ticks": "",
           "title": {
            "standoff": 15
           },
           "zerolinecolor": "white",
           "zerolinewidth": 2
          }
         }
        },
        "title": {
         "text": "Import Values by Country and Oil Price Over Time"
        },
        "width": 1200,
        "xaxis": {
         "anchor": "y",
         "domain": [
          0,
          0.94
         ],
         "showgrid": true,
         "tickangle": 45,
         "title": {
          "text": "Year, Quarter"
         }
        },
        "yaxis": {
         "anchor": "x",
         "domain": [
          0,
          1
         ],
         "showgrid": true,
         "title": {
          "text": "Import Values (in Million USD)"
         }
        },
        "yaxis2": {
         "anchor": "x",
         "overlaying": "y",
         "side": "right",
         "title": {
          "text": "Oil Price (in USD)"
         }
        }
       }
      }
     },
     "metadata": {},
     "output_type": "display_data"
    }
   ],
   "source": [
    "# Visualization of total Import values from 5 EU countries to the Netherlands\n",
    "\n",
    "import plotly.graph_objects as go\n",
    "from plotly.subplots import make_subplots\n",
    "\n",
    "# Create a subplot with secondary y-axis\n",
    "fig = make_subplots(specs=[[{\"secondary_y\": True}]])\n",
    "\n",
    "# Add Oil Price line first to make it appear first in the legend\n",
    "fig.add_trace(\n",
    "    go.Scatter(x = export_data['Year, Quarter'], y = export_data['Price'],\n",
    "               mode = 'lines',  \n",
    "               name = 'Oil Price'),\n",
    "    secondary_y = True,\n",
    ")\n",
    "\n",
    "# Add import data lines for each country\n",
    "countries = export_data.columns[2:7].tolist()  \n",
    "marker_symbols = ['circle', 'square', 'diamond', 'cross', 'x']\n",
    "\n",
    "for i, country in enumerate(countries):\n",
    "    fig.add_trace(\n",
    "        go.Scatter(x = export_data['Year, Quarter'], y=export_data[country],\n",
    "                   mode = 'lines',  \n",
    "                   name = country),\n",
    "        secondary_y = False,\n",
    "    )\n",
    "\n",
    "# Update layout\n",
    "fig.update_layout(\n",
    "    title = 'Import Values by Country and Oil Price Over Time',  \n",
    "    xaxis = dict(showgrid=True, tickangle=45),\n",
    "    yaxis = dict(showgrid=True),\n",
    "    xaxis_title = 'Year, Quarter',\n",
    "    yaxis_title = 'Import Values (in Million USD)',  \n",
    "    yaxis2_title = 'Oil Price (in USD)',\n",
    "    width = 1200,  # Increase the width to make the graph wider\n",
    "    height = 600,  # Adjust the height if needed\n",
    ")\n",
    "\n",
    "# Show the figure\n",
    "fig.show()\n"
   ]
  },
  {
   "cell_type": "markdown",
   "metadata": {},
   "source": [
    "The data shows significant trends in import values to the Netherlands from five EU countries over the quarters from 2021 to 2023. In 2021, Germany emerged as the leading importer with values starting at 26.11 million USD in Q1 and gradually increasing to 28.63 million USD by Q4. Belgium followed with an initial value of 13.61 million USD in Q1, which rose steadily to 16.88 million USD in Q4. France's imports ranged from 5.39 million USD to 6.44 million USD, while Italy and Poland had lower values, starting at 4.00 million USD and 3.39 million USD respectively, with slight increases through the quarters.\n",
    "\n",
    "In 2022, the overall import values showed a marked increase, particularly for Germany and Belgium. Germany's imports reached 28.79 million USD in Q1, with minor fluctuations throughout the year, peaking at 28.88 million USD in Q4. Belgium's imports saw a steady growth from 17.29 million USD in Q1 to 17.56 million USD in Q4. France's import values remained relatively stable, while Italy and Poland also showed modest increases, with values around 4.32 million USD for Italy and 4.10 million USD for Poland in Q1, and slight improvements by Q4.\n",
    "\n",
    "By 2023, import values continued to reflect the established trends, with Germany leading at 30.87 million USD in Q1 and slightly decreasing to 28.93 million USD by Q4. Belgium's imports maintained a strong position at around 16.49 million USD in Q1, and fluctuated slightly throughout the year. In contrast, France, Italy, and Poland displayed more stable yet lower import values, with France's imports peaking at 6.62 million USD in Q4. Overall, the data illustrates a concentrated import pattern, where Germany consistently leads, while other countries like Belgium show significant contributions but at lower levels."
   ]
  },
  {
   "cell_type": "markdown",
   "metadata": {},
   "source": []
  }
 ],
 "metadata": {
  "kernelspec": {
   "display_name": "TIL6022",
   "language": "python",
   "name": "python3"
  },
  "language_info": {
   "codemirror_mode": {
    "name": "ipython",
    "version": 3
   },
   "file_extension": ".py",
   "mimetype": "text/x-python",
   "name": "python",
   "nbconvert_exporter": "python",
   "pygments_lexer": "ipython3",
   "version": "3.12.5"
  }
 },
 "nbformat": 4,
 "nbformat_minor": 2
}
