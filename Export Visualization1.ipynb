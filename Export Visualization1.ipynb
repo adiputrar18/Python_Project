{
 "cells": [
  {
   "cell_type": "markdown",
   "metadata": {},
   "source": [
    "### Export values from the Netherlands to other 5 EU countries"
   ]
  },
  {
   "cell_type": "code",
   "execution_count": 19,
   "metadata": {},
   "outputs": [
    {
     "data": {
      "text/html": [
       "<style type=\"text/css\">\n",
       "#T_8ee85 th {\n",
       "  border: 1px solid black;\n",
       "}\n",
       "#T_8ee85 td {\n",
       "  border: 1px solid black;\n",
       "}\n",
       "</style>\n",
       "<table id=\"T_8ee85\">\n",
       "  <thead>\n",
       "    <tr>\n",
       "      <th class=\"blank level0\" >&nbsp;</th>\n",
       "      <th id=\"T_8ee85_level0_col0\" class=\"col_heading level0 col0\" >Quarter</th>\n",
       "      <th id=\"T_8ee85_level0_col1\" class=\"col_heading level0 col1\" >Price</th>\n",
       "      <th id=\"T_8ee85_level0_col2\" class=\"col_heading level0 col2\" >Export Germany</th>\n",
       "      <th id=\"T_8ee85_level0_col3\" class=\"col_heading level0 col3\" >Export Belgium</th>\n",
       "      <th id=\"T_8ee85_level0_col4\" class=\"col_heading level0 col4\" >Export France</th>\n",
       "      <th id=\"T_8ee85_level0_col5\" class=\"col_heading level0 col5\" >Export Italy</th>\n",
       "      <th id=\"T_8ee85_level0_col6\" class=\"col_heading level0 col6\" >Export Poland</th>\n",
       "    </tr>\n",
       "  </thead>\n",
       "  <tbody>\n",
       "    <tr>\n",
       "      <th id=\"T_8ee85_level0_row0\" class=\"row_heading level0 row0\" >0</th>\n",
       "      <td id=\"T_8ee85_row0_col0\" class=\"data row0 col0\" >2021 Q1</td>\n",
       "      <td id=\"T_8ee85_row0_col1\" class=\"data row0 col1\" >60.820000</td>\n",
       "      <td id=\"T_8ee85_row0_col2\" class=\"data row0 col2\" >44.117655</td>\n",
       "      <td id=\"T_8ee85_row0_col3\" class=\"data row0 col3\" >21.330007</td>\n",
       "      <td id=\"T_8ee85_row0_col4\" class=\"data row0 col4\" >17.206682</td>\n",
       "      <td id=\"T_8ee85_row0_col5\" class=\"data row0 col5\" >8.232882</td>\n",
       "      <td id=\"T_8ee85_row0_col6\" class=\"data row0 col6\" >6.464029</td>\n",
       "    </tr>\n",
       "    <tr>\n",
       "      <th id=\"T_8ee85_level0_row1\" class=\"row_heading level0 row1\" >1</th>\n",
       "      <td id=\"T_8ee85_row1_col0\" class=\"data row1 col0\" >2021 Q2</td>\n",
       "      <td id=\"T_8ee85_row1_col1\" class=\"data row1 col1\" >68.830000</td>\n",
       "      <td id=\"T_8ee85_row1_col2\" class=\"data row1 col2\" >46.797432</td>\n",
       "      <td id=\"T_8ee85_row1_col3\" class=\"data row1 col3\" >22.626315</td>\n",
       "      <td id=\"T_8ee85_row1_col4\" class=\"data row1 col4\" >17.625687</td>\n",
       "      <td id=\"T_8ee85_row1_col5\" class=\"data row1 col5\" >8.438632</td>\n",
       "      <td id=\"T_8ee85_row1_col6\" class=\"data row1 col6\" >6.848701</td>\n",
       "    </tr>\n",
       "    <tr>\n",
       "      <th id=\"T_8ee85_level0_row2\" class=\"row_heading level0 row2\" >2</th>\n",
       "      <td id=\"T_8ee85_row2_col0\" class=\"data row2 col0\" >2021 Q3</td>\n",
       "      <td id=\"T_8ee85_row2_col1\" class=\"data row2 col1\" >73.470000</td>\n",
       "      <td id=\"T_8ee85_row2_col2\" class=\"data row2 col2\" >47.022815</td>\n",
       "      <td id=\"T_8ee85_row2_col3\" class=\"data row2 col3\" >22.971691</td>\n",
       "      <td id=\"T_8ee85_row2_col4\" class=\"data row2 col4\" >17.868996</td>\n",
       "      <td id=\"T_8ee85_row2_col5\" class=\"data row2 col5\" >8.190615</td>\n",
       "      <td id=\"T_8ee85_row2_col6\" class=\"data row2 col6\" >6.796111</td>\n",
       "    </tr>\n",
       "    <tr>\n",
       "      <th id=\"T_8ee85_level0_row3\" class=\"row_heading level0 row3\" >3</th>\n",
       "      <td id=\"T_8ee85_row3_col0\" class=\"data row3 col0\" >2021 Q4</td>\n",
       "      <td id=\"T_8ee85_row3_col1\" class=\"data row3 col1\" >79.590000</td>\n",
       "      <td id=\"T_8ee85_row3_col2\" class=\"data row3 col2\" >50.446783</td>\n",
       "      <td id=\"T_8ee85_row3_col3\" class=\"data row3 col3\" >24.537921</td>\n",
       "      <td id=\"T_8ee85_row3_col4\" class=\"data row3 col4\" >19.451189</td>\n",
       "      <td id=\"T_8ee85_row3_col5\" class=\"data row3 col5\" >9.228776</td>\n",
       "      <td id=\"T_8ee85_row3_col6\" class=\"data row3 col6\" >7.857002</td>\n",
       "    </tr>\n",
       "    <tr>\n",
       "      <th id=\"T_8ee85_level0_row4\" class=\"row_heading level0 row4\" >4</th>\n",
       "      <td id=\"T_8ee85_row4_col0\" class=\"data row4 col0\" >2022 Q1</td>\n",
       "      <td id=\"T_8ee85_row4_col1\" class=\"data row4 col1\" >100.300000</td>\n",
       "      <td id=\"T_8ee85_row4_col2\" class=\"data row4 col2\" >52.094426</td>\n",
       "      <td id=\"T_8ee85_row4_col3\" class=\"data row4 col3\" >25.765264</td>\n",
       "      <td id=\"T_8ee85_row4_col4\" class=\"data row4 col4\" >18.914984</td>\n",
       "      <td id=\"T_8ee85_row4_col5\" class=\"data row4 col5\" >9.436756</td>\n",
       "      <td id=\"T_8ee85_row4_col6\" class=\"data row4 col6\" >7.941483</td>\n",
       "    </tr>\n",
       "    <tr>\n",
       "      <th id=\"T_8ee85_level0_row5\" class=\"row_heading level0 row5\" >5</th>\n",
       "      <td id=\"T_8ee85_row5_col0\" class=\"data row5 col0\" >2022 Q2</td>\n",
       "      <td id=\"T_8ee85_row5_col1\" class=\"data row5 col1\" >113.540000</td>\n",
       "      <td id=\"T_8ee85_row5_col2\" class=\"data row5 col2\" >54.533106</td>\n",
       "      <td id=\"T_8ee85_row5_col3\" class=\"data row5 col3\" >27.722722</td>\n",
       "      <td id=\"T_8ee85_row5_col4\" class=\"data row5 col4\" >19.069949</td>\n",
       "      <td id=\"T_8ee85_row5_col5\" class=\"data row5 col5\" >9.441125</td>\n",
       "      <td id=\"T_8ee85_row5_col6\" class=\"data row5 col6\" >7.449511</td>\n",
       "    </tr>\n",
       "    <tr>\n",
       "      <th id=\"T_8ee85_level0_row6\" class=\"row_heading level0 row6\" >6</th>\n",
       "      <td id=\"T_8ee85_row6_col0\" class=\"data row6 col0\" >2022 Q3</td>\n",
       "      <td id=\"T_8ee85_row6_col1\" class=\"data row6 col1\" >100.710000</td>\n",
       "      <td id=\"T_8ee85_row6_col2\" class=\"data row6 col2\" >52.237598</td>\n",
       "      <td id=\"T_8ee85_row6_col3\" class=\"data row6 col3\" >25.748810</td>\n",
       "      <td id=\"T_8ee85_row6_col4\" class=\"data row6 col4\" >18.312154</td>\n",
       "      <td id=\"T_8ee85_row6_col5\" class=\"data row6 col5\" >8.402710</td>\n",
       "      <td id=\"T_8ee85_row6_col6\" class=\"data row6 col6\" >7.057325</td>\n",
       "    </tr>\n",
       "    <tr>\n",
       "      <th id=\"T_8ee85_level0_row7\" class=\"row_heading level0 row7\" >7</th>\n",
       "      <td id=\"T_8ee85_row7_col0\" class=\"data row7 col0\" >2022 Q4</td>\n",
       "      <td id=\"T_8ee85_row7_col1\" class=\"data row7 col1\" >88.560000</td>\n",
       "      <td id=\"T_8ee85_row7_col2\" class=\"data row7 col2\" >51.860825</td>\n",
       "      <td id=\"T_8ee85_row7_col3\" class=\"data row7 col3\" >26.689289</td>\n",
       "      <td id=\"T_8ee85_row7_col4\" class=\"data row7 col4\" >20.520986</td>\n",
       "      <td id=\"T_8ee85_row7_col5\" class=\"data row7 col5\" >8.964858</td>\n",
       "      <td id=\"T_8ee85_row7_col6\" class=\"data row7 col6\" >7.799943</td>\n",
       "    </tr>\n",
       "    <tr>\n",
       "      <th id=\"T_8ee85_level0_row8\" class=\"row_heading level0 row8\" >8</th>\n",
       "      <td id=\"T_8ee85_row8_col0\" class=\"data row8 col0\" >2023 Q1</td>\n",
       "      <td id=\"T_8ee85_row8_col1\" class=\"data row8 col1\" >81.170000</td>\n",
       "      <td id=\"T_8ee85_row8_col2\" class=\"data row8 col2\" >55.508039</td>\n",
       "      <td id=\"T_8ee85_row8_col3\" class=\"data row8 col3\" >26.052519</td>\n",
       "      <td id=\"T_8ee85_row8_col4\" class=\"data row8 col4\" >19.919543</td>\n",
       "      <td id=\"T_8ee85_row8_col5\" class=\"data row8 col5\" >9.985542</td>\n",
       "      <td id=\"T_8ee85_row8_col6\" class=\"data row8 col6\" >8.299103</td>\n",
       "    </tr>\n",
       "    <tr>\n",
       "      <th id=\"T_8ee85_level0_row9\" class=\"row_heading level0 row9\" >9</th>\n",
       "      <td id=\"T_8ee85_row9_col0\" class=\"data row9 col0\" >2023 Q2</td>\n",
       "      <td id=\"T_8ee85_row9_col1\" class=\"data row9 col1\" >78.320000</td>\n",
       "      <td id=\"T_8ee85_row9_col2\" class=\"data row9 col2\" >53.140635</td>\n",
       "      <td id=\"T_8ee85_row9_col3\" class=\"data row9 col3\" >25.434880</td>\n",
       "      <td id=\"T_8ee85_row9_col4\" class=\"data row9 col4\" >19.466554</td>\n",
       "      <td id=\"T_8ee85_row9_col5\" class=\"data row9 col5\" >9.420803</td>\n",
       "      <td id=\"T_8ee85_row9_col6\" class=\"data row9 col6\" >7.823181</td>\n",
       "    </tr>\n",
       "    <tr>\n",
       "      <th id=\"T_8ee85_level0_row10\" class=\"row_heading level0 row10\" >10</th>\n",
       "      <td id=\"T_8ee85_row10_col0\" class=\"data row10 col0\" >2023 Q3</td>\n",
       "      <td id=\"T_8ee85_row10_col1\" class=\"data row10 col1\" >86.660000</td>\n",
       "      <td id=\"T_8ee85_row10_col2\" class=\"data row10 col2\" >51.333495</td>\n",
       "      <td id=\"T_8ee85_row10_col3\" class=\"data row10 col3\" >26.063645</td>\n",
       "      <td id=\"T_8ee85_row10_col4\" class=\"data row10 col4\" >18.305596</td>\n",
       "      <td id=\"T_8ee85_row10_col5\" class=\"data row10 col5\" >8.711629</td>\n",
       "      <td id=\"T_8ee85_row10_col6\" class=\"data row10 col6\" >7.439858</td>\n",
       "    </tr>\n",
       "    <tr>\n",
       "      <th id=\"T_8ee85_level0_row11\" class=\"row_heading level0 row11\" >11</th>\n",
       "      <td id=\"T_8ee85_row11_col0\" class=\"data row11 col0\" >2023 Q4</td>\n",
       "      <td id=\"T_8ee85_row11_col1\" class=\"data row11 col1\" >83.720000</td>\n",
       "      <td id=\"T_8ee85_row11_col2\" class=\"data row11 col2\" >50.627033</td>\n",
       "      <td id=\"T_8ee85_row11_col3\" class=\"data row11 col3\" >25.902379</td>\n",
       "      <td id=\"T_8ee85_row11_col4\" class=\"data row11 col4\" >19.698186</td>\n",
       "      <td id=\"T_8ee85_row11_col5\" class=\"data row11 col5\" >9.562786</td>\n",
       "      <td id=\"T_8ee85_row11_col6\" class=\"data row11 col6\" >8.178079</td>\n",
       "    </tr>\n",
       "  </tbody>\n",
       "</table>\n"
      ],
      "text/plain": [
       "<pandas.io.formats.style.Styler at 0x22fd63a2960>"
      ]
     },
     "execution_count": 19,
     "metadata": {},
     "output_type": "execute_result"
    }
   ],
   "source": [
    "import pandas as pd\n",
    "import os\n",
    "os.listdir()\n",
    "\n",
    "# Load the Summarized dataset into a DataFrame for Export value information\n",
    "export_data = pd.read_excel('data/Summarized Data.xlsx', usecols=['Quarter', 'Price', 'Export Germany', 'Export Belgium', 'Export France', 'Export Italy', 'Export Poland']).dropna()\n",
    "\n",
    "# Apply border styling\n",
    "styled_df = export_data.style.set_table_styles(\n",
    "    [{'selector': 'th', 'props': [('border', '1px solid black')]},\n",
    "     {'selector': 'td', 'props': [('border', '1px solid black')]}]\n",
    ")\n",
    "\n",
    "# Display the styled table\n",
    "styled_df"
   ]
  },
  {
   "cell_type": "code",
   "execution_count": 20,
   "metadata": {},
   "outputs": [
    {
     "data": {
      "text/html": [
       "<style type=\"text/css\">\n",
       "#T_efec0 th {\n",
       "  border: 1px solid black;\n",
       "}\n",
       "#T_efec0 td {\n",
       "  border: 1px solid black;\n",
       "}\n",
       "</style>\n",
       "<table id=\"T_efec0\">\n",
       "  <thead>\n",
       "    <tr>\n",
       "      <th class=\"blank level0\" >&nbsp;</th>\n",
       "      <th id=\"T_efec0_level0_col0\" class=\"col_heading level0 col0\" >Country</th>\n",
       "      <th id=\"T_efec0_level0_col1\" class=\"col_heading level0 col1\" >Total Export Value from the Netherlands</th>\n",
       "    </tr>\n",
       "  </thead>\n",
       "  <tbody>\n",
       "    <tr>\n",
       "      <th id=\"T_efec0_level0_row0\" class=\"row_heading level0 row0\" >0</th>\n",
       "      <td id=\"T_efec0_row0_col0\" class=\"data row0 col0\" >Export Germany</td>\n",
       "      <td id=\"T_efec0_row0_col1\" class=\"data row0 col1\" >609.719842</td>\n",
       "    </tr>\n",
       "    <tr>\n",
       "      <th id=\"T_efec0_level0_row1\" class=\"row_heading level0 row1\" >1</th>\n",
       "      <td id=\"T_efec0_row1_col0\" class=\"data row1 col0\" >Export Belgium</td>\n",
       "      <td id=\"T_efec0_row1_col1\" class=\"data row1 col1\" >300.845442</td>\n",
       "    </tr>\n",
       "    <tr>\n",
       "      <th id=\"T_efec0_level0_row2\" class=\"row_heading level0 row2\" >2</th>\n",
       "      <td id=\"T_efec0_row2_col0\" class=\"data row2 col0\" >Export France</td>\n",
       "      <td id=\"T_efec0_row2_col1\" class=\"data row2 col1\" >226.360506</td>\n",
       "    </tr>\n",
       "    <tr>\n",
       "      <th id=\"T_efec0_level0_row3\" class=\"row_heading level0 row3\" >3</th>\n",
       "      <td id=\"T_efec0_row3_col0\" class=\"data row3 col0\" >Export Italy</td>\n",
       "      <td id=\"T_efec0_row3_col1\" class=\"data row3 col1\" >108.017114</td>\n",
       "    </tr>\n",
       "    <tr>\n",
       "      <th id=\"T_efec0_level0_row4\" class=\"row_heading level0 row4\" >4</th>\n",
       "      <td id=\"T_efec0_row4_col0\" class=\"data row4 col0\" >Export Poland</td>\n",
       "      <td id=\"T_efec0_row4_col1\" class=\"data row4 col1\" >89.954326</td>\n",
       "    </tr>\n",
       "  </tbody>\n",
       "</table>\n"
      ],
      "text/plain": [
       "<pandas.io.formats.style.Styler at 0x22fd42e8ef0>"
      ]
     },
     "execution_count": 20,
     "metadata": {},
     "output_type": "execute_result"
    }
   ],
   "source": [
    "total_exports = export_data[['Export Germany', 'Export Belgium', 'Export France', 'Export Italy', 'Export Poland']].sum()\n",
    "\n",
    "sum_exports_df = pd.DataFrame({\n",
    "    'Country': total_exports.index,\n",
    "    'Total Export Value from the Netherlands': total_exports.values\n",
    "})\n",
    "\n",
    "sum_exports_df = sum_exports_df.sort_values(by='Total Export Value from the Netherlands', ascending=False)\n",
    "\n",
    "sum_exports_df.reset_index(drop=True, inplace=True)\n",
    "\n",
    "styled_sum_df = sum_exports_df.style.set_table_styles(\n",
    "    [{'selector': 'th', 'props': [('border', '1px solid black')]},\n",
    "     {'selector': 'td', 'props': [('border', '1px solid black')]}]\n",
    ")\n",
    "\n",
    "styled_sum_df"
   ]
  },
  {
   "cell_type": "code",
   "execution_count": 21,
   "metadata": {},
   "outputs": [
    {
     "data": {
      "application/vnd.plotly.v1+json": {
       "config": {
        "plotlyServerURL": "https://plot.ly"
       },
       "data": [
        {
         "mode": "lines",
         "name": "Export Germany",
         "type": "scatter",
         "x": [
          "2021 Q1",
          "2021 Q2",
          "2021 Q3",
          "2021 Q4",
          "2022 Q1",
          "2022 Q2",
          "2022 Q3",
          "2022 Q4",
          "2023 Q1",
          "2023 Q2",
          "2023 Q3",
          "2023 Q4"
         ],
         "xaxis": "x",
         "y": [
          44.117655,
          46.797432,
          47.022815,
          50.446783,
          52.094426,
          54.533106,
          52.237598,
          51.860825,
          55.508039,
          53.140635,
          51.333495,
          50.627033
         ],
         "yaxis": "y"
        },
        {
         "mode": "lines",
         "name": "Export Belgium",
         "type": "scatter",
         "x": [
          "2021 Q1",
          "2021 Q2",
          "2021 Q3",
          "2021 Q4",
          "2022 Q1",
          "2022 Q2",
          "2022 Q3",
          "2022 Q4",
          "2023 Q1",
          "2023 Q2",
          "2023 Q3",
          "2023 Q4"
         ],
         "xaxis": "x",
         "y": [
          21.330007,
          22.626315,
          22.971691,
          24.537921,
          25.765264,
          27.722722,
          25.74881,
          26.689289,
          26.052519,
          25.43488,
          26.063645,
          25.902379
         ],
         "yaxis": "y"
        },
        {
         "mode": "lines",
         "name": "Export France",
         "type": "scatter",
         "x": [
          "2021 Q1",
          "2021 Q2",
          "2021 Q3",
          "2021 Q4",
          "2022 Q1",
          "2022 Q2",
          "2022 Q3",
          "2022 Q4",
          "2023 Q1",
          "2023 Q2",
          "2023 Q3",
          "2023 Q4"
         ],
         "xaxis": "x",
         "y": [
          17.206682,
          17.625687,
          17.868996,
          19.451189,
          18.914984,
          19.069949,
          18.312154,
          20.520986,
          19.919543,
          19.466554,
          18.305596,
          19.698186
         ],
         "yaxis": "y"
        },
        {
         "mode": "lines",
         "name": "Export Italy",
         "type": "scatter",
         "x": [
          "2021 Q1",
          "2021 Q2",
          "2021 Q3",
          "2021 Q4",
          "2022 Q1",
          "2022 Q2",
          "2022 Q3",
          "2022 Q4",
          "2023 Q1",
          "2023 Q2",
          "2023 Q3",
          "2023 Q4"
         ],
         "xaxis": "x",
         "y": [
          8.232882,
          8.438632,
          8.190615,
          9.228776,
          9.436756,
          9.441125,
          8.40271,
          8.964858,
          9.985542,
          9.420803,
          8.711629,
          9.562786
         ],
         "yaxis": "y"
        },
        {
         "mode": "lines",
         "name": "Export Poland",
         "type": "scatter",
         "x": [
          "2021 Q1",
          "2021 Q2",
          "2021 Q3",
          "2021 Q4",
          "2022 Q1",
          "2022 Q2",
          "2022 Q3",
          "2022 Q4",
          "2023 Q1",
          "2023 Q2",
          "2023 Q3",
          "2023 Q4"
         ],
         "xaxis": "x",
         "y": [
          6.464029,
          6.848701,
          6.796111,
          7.857002,
          7.941483,
          7.449511,
          7.057325,
          7.799943,
          8.299103,
          7.823181,
          7.439858,
          8.178079
         ],
         "yaxis": "y"
        },
        {
         "mode": "lines",
         "name": "Oil Price",
         "type": "scatter",
         "x": [
          "2021 Q1",
          "2021 Q2",
          "2021 Q3",
          "2021 Q4",
          "2022 Q1",
          "2022 Q2",
          "2022 Q3",
          "2022 Q4",
          "2023 Q1",
          "2023 Q2",
          "2023 Q3",
          "2023 Q4"
         ],
         "xaxis": "x",
         "y": [
          60.82,
          68.83,
          73.47,
          79.59,
          100.3,
          113.54,
          100.71,
          88.56,
          81.17,
          78.32,
          86.66,
          83.72
         ],
         "yaxis": "y2"
        }
       ],
       "layout": {
        "template": {
         "data": {
          "bar": [
           {
            "error_x": {
             "color": "#2a3f5f"
            },
            "error_y": {
             "color": "#2a3f5f"
            },
            "marker": {
             "line": {
              "color": "#E5ECF6",
              "width": 0.5
             },
             "pattern": {
              "fillmode": "overlay",
              "size": 10,
              "solidity": 0.2
             }
            },
            "type": "bar"
           }
          ],
          "barpolar": [
           {
            "marker": {
             "line": {
              "color": "#E5ECF6",
              "width": 0.5
             },
             "pattern": {
              "fillmode": "overlay",
              "size": 10,
              "solidity": 0.2
             }
            },
            "type": "barpolar"
           }
          ],
          "carpet": [
           {
            "aaxis": {
             "endlinecolor": "#2a3f5f",
             "gridcolor": "white",
             "linecolor": "white",
             "minorgridcolor": "white",
             "startlinecolor": "#2a3f5f"
            },
            "baxis": {
             "endlinecolor": "#2a3f5f",
             "gridcolor": "white",
             "linecolor": "white",
             "minorgridcolor": "white",
             "startlinecolor": "#2a3f5f"
            },
            "type": "carpet"
           }
          ],
          "choropleth": [
           {
            "colorbar": {
             "outlinewidth": 0,
             "ticks": ""
            },
            "type": "choropleth"
           }
          ],
          "contour": [
           {
            "colorbar": {
             "outlinewidth": 0,
             "ticks": ""
            },
            "colorscale": [
             [
              0,
              "#0d0887"
             ],
             [
              0.1111111111111111,
              "#46039f"
             ],
             [
              0.2222222222222222,
              "#7201a8"
             ],
             [
              0.3333333333333333,
              "#9c179e"
             ],
             [
              0.4444444444444444,
              "#bd3786"
             ],
             [
              0.5555555555555556,
              "#d8576b"
             ],
             [
              0.6666666666666666,
              "#ed7953"
             ],
             [
              0.7777777777777778,
              "#fb9f3a"
             ],
             [
              0.8888888888888888,
              "#fdca26"
             ],
             [
              1,
              "#f0f921"
             ]
            ],
            "type": "contour"
           }
          ],
          "contourcarpet": [
           {
            "colorbar": {
             "outlinewidth": 0,
             "ticks": ""
            },
            "type": "contourcarpet"
           }
          ],
          "heatmap": [
           {
            "colorbar": {
             "outlinewidth": 0,
             "ticks": ""
            },
            "colorscale": [
             [
              0,
              "#0d0887"
             ],
             [
              0.1111111111111111,
              "#46039f"
             ],
             [
              0.2222222222222222,
              "#7201a8"
             ],
             [
              0.3333333333333333,
              "#9c179e"
             ],
             [
              0.4444444444444444,
              "#bd3786"
             ],
             [
              0.5555555555555556,
              "#d8576b"
             ],
             [
              0.6666666666666666,
              "#ed7953"
             ],
             [
              0.7777777777777778,
              "#fb9f3a"
             ],
             [
              0.8888888888888888,
              "#fdca26"
             ],
             [
              1,
              "#f0f921"
             ]
            ],
            "type": "heatmap"
           }
          ],
          "heatmapgl": [
           {
            "colorbar": {
             "outlinewidth": 0,
             "ticks": ""
            },
            "colorscale": [
             [
              0,
              "#0d0887"
             ],
             [
              0.1111111111111111,
              "#46039f"
             ],
             [
              0.2222222222222222,
              "#7201a8"
             ],
             [
              0.3333333333333333,
              "#9c179e"
             ],
             [
              0.4444444444444444,
              "#bd3786"
             ],
             [
              0.5555555555555556,
              "#d8576b"
             ],
             [
              0.6666666666666666,
              "#ed7953"
             ],
             [
              0.7777777777777778,
              "#fb9f3a"
             ],
             [
              0.8888888888888888,
              "#fdca26"
             ],
             [
              1,
              "#f0f921"
             ]
            ],
            "type": "heatmapgl"
           }
          ],
          "histogram": [
           {
            "marker": {
             "pattern": {
              "fillmode": "overlay",
              "size": 10,
              "solidity": 0.2
             }
            },
            "type": "histogram"
           }
          ],
          "histogram2d": [
           {
            "colorbar": {
             "outlinewidth": 0,
             "ticks": ""
            },
            "colorscale": [
             [
              0,
              "#0d0887"
             ],
             [
              0.1111111111111111,
              "#46039f"
             ],
             [
              0.2222222222222222,
              "#7201a8"
             ],
             [
              0.3333333333333333,
              "#9c179e"
             ],
             [
              0.4444444444444444,
              "#bd3786"
             ],
             [
              0.5555555555555556,
              "#d8576b"
             ],
             [
              0.6666666666666666,
              "#ed7953"
             ],
             [
              0.7777777777777778,
              "#fb9f3a"
             ],
             [
              0.8888888888888888,
              "#fdca26"
             ],
             [
              1,
              "#f0f921"
             ]
            ],
            "type": "histogram2d"
           }
          ],
          "histogram2dcontour": [
           {
            "colorbar": {
             "outlinewidth": 0,
             "ticks": ""
            },
            "colorscale": [
             [
              0,
              "#0d0887"
             ],
             [
              0.1111111111111111,
              "#46039f"
             ],
             [
              0.2222222222222222,
              "#7201a8"
             ],
             [
              0.3333333333333333,
              "#9c179e"
             ],
             [
              0.4444444444444444,
              "#bd3786"
             ],
             [
              0.5555555555555556,
              "#d8576b"
             ],
             [
              0.6666666666666666,
              "#ed7953"
             ],
             [
              0.7777777777777778,
              "#fb9f3a"
             ],
             [
              0.8888888888888888,
              "#fdca26"
             ],
             [
              1,
              "#f0f921"
             ]
            ],
            "type": "histogram2dcontour"
           }
          ],
          "mesh3d": [
           {
            "colorbar": {
             "outlinewidth": 0,
             "ticks": ""
            },
            "type": "mesh3d"
           }
          ],
          "parcoords": [
           {
            "line": {
             "colorbar": {
              "outlinewidth": 0,
              "ticks": ""
             }
            },
            "type": "parcoords"
           }
          ],
          "pie": [
           {
            "automargin": true,
            "type": "pie"
           }
          ],
          "scatter": [
           {
            "fillpattern": {
             "fillmode": "overlay",
             "size": 10,
             "solidity": 0.2
            },
            "type": "scatter"
           }
          ],
          "scatter3d": [
           {
            "line": {
             "colorbar": {
              "outlinewidth": 0,
              "ticks": ""
             }
            },
            "marker": {
             "colorbar": {
              "outlinewidth": 0,
              "ticks": ""
             }
            },
            "type": "scatter3d"
           }
          ],
          "scattercarpet": [
           {
            "marker": {
             "colorbar": {
              "outlinewidth": 0,
              "ticks": ""
             }
            },
            "type": "scattercarpet"
           }
          ],
          "scattergeo": [
           {
            "marker": {
             "colorbar": {
              "outlinewidth": 0,
              "ticks": ""
             }
            },
            "type": "scattergeo"
           }
          ],
          "scattergl": [
           {
            "marker": {
             "colorbar": {
              "outlinewidth": 0,
              "ticks": ""
             }
            },
            "type": "scattergl"
           }
          ],
          "scattermapbox": [
           {
            "marker": {
             "colorbar": {
              "outlinewidth": 0,
              "ticks": ""
             }
            },
            "type": "scattermapbox"
           }
          ],
          "scatterpolar": [
           {
            "marker": {
             "colorbar": {
              "outlinewidth": 0,
              "ticks": ""
             }
            },
            "type": "scatterpolar"
           }
          ],
          "scatterpolargl": [
           {
            "marker": {
             "colorbar": {
              "outlinewidth": 0,
              "ticks": ""
             }
            },
            "type": "scatterpolargl"
           }
          ],
          "scatterternary": [
           {
            "marker": {
             "colorbar": {
              "outlinewidth": 0,
              "ticks": ""
             }
            },
            "type": "scatterternary"
           }
          ],
          "surface": [
           {
            "colorbar": {
             "outlinewidth": 0,
             "ticks": ""
            },
            "colorscale": [
             [
              0,
              "#0d0887"
             ],
             [
              0.1111111111111111,
              "#46039f"
             ],
             [
              0.2222222222222222,
              "#7201a8"
             ],
             [
              0.3333333333333333,
              "#9c179e"
             ],
             [
              0.4444444444444444,
              "#bd3786"
             ],
             [
              0.5555555555555556,
              "#d8576b"
             ],
             [
              0.6666666666666666,
              "#ed7953"
             ],
             [
              0.7777777777777778,
              "#fb9f3a"
             ],
             [
              0.8888888888888888,
              "#fdca26"
             ],
             [
              1,
              "#f0f921"
             ]
            ],
            "type": "surface"
           }
          ],
          "table": [
           {
            "cells": {
             "fill": {
              "color": "#EBF0F8"
             },
             "line": {
              "color": "white"
             }
            },
            "header": {
             "fill": {
              "color": "#C8D4E3"
             },
             "line": {
              "color": "white"
             }
            },
            "type": "table"
           }
          ]
         },
         "layout": {
          "annotationdefaults": {
           "arrowcolor": "#2a3f5f",
           "arrowhead": 0,
           "arrowwidth": 1
          },
          "autotypenumbers": "strict",
          "coloraxis": {
           "colorbar": {
            "outlinewidth": 0,
            "ticks": ""
           }
          },
          "colorscale": {
           "diverging": [
            [
             0,
             "#8e0152"
            ],
            [
             0.1,
             "#c51b7d"
            ],
            [
             0.2,
             "#de77ae"
            ],
            [
             0.3,
             "#f1b6da"
            ],
            [
             0.4,
             "#fde0ef"
            ],
            [
             0.5,
             "#f7f7f7"
            ],
            [
             0.6,
             "#e6f5d0"
            ],
            [
             0.7,
             "#b8e186"
            ],
            [
             0.8,
             "#7fbc41"
            ],
            [
             0.9,
             "#4d9221"
            ],
            [
             1,
             "#276419"
            ]
           ],
           "sequential": [
            [
             0,
             "#0d0887"
            ],
            [
             0.1111111111111111,
             "#46039f"
            ],
            [
             0.2222222222222222,
             "#7201a8"
            ],
            [
             0.3333333333333333,
             "#9c179e"
            ],
            [
             0.4444444444444444,
             "#bd3786"
            ],
            [
             0.5555555555555556,
             "#d8576b"
            ],
            [
             0.6666666666666666,
             "#ed7953"
            ],
            [
             0.7777777777777778,
             "#fb9f3a"
            ],
            [
             0.8888888888888888,
             "#fdca26"
            ],
            [
             1,
             "#f0f921"
            ]
           ],
           "sequentialminus": [
            [
             0,
             "#0d0887"
            ],
            [
             0.1111111111111111,
             "#46039f"
            ],
            [
             0.2222222222222222,
             "#7201a8"
            ],
            [
             0.3333333333333333,
             "#9c179e"
            ],
            [
             0.4444444444444444,
             "#bd3786"
            ],
            [
             0.5555555555555556,
             "#d8576b"
            ],
            [
             0.6666666666666666,
             "#ed7953"
            ],
            [
             0.7777777777777778,
             "#fb9f3a"
            ],
            [
             0.8888888888888888,
             "#fdca26"
            ],
            [
             1,
             "#f0f921"
            ]
           ]
          },
          "colorway": [
           "#636efa",
           "#EF553B",
           "#00cc96",
           "#ab63fa",
           "#FFA15A",
           "#19d3f3",
           "#FF6692",
           "#B6E880",
           "#FF97FF",
           "#FECB52"
          ],
          "font": {
           "color": "#2a3f5f"
          },
          "geo": {
           "bgcolor": "white",
           "lakecolor": "white",
           "landcolor": "#E5ECF6",
           "showlakes": true,
           "showland": true,
           "subunitcolor": "white"
          },
          "hoverlabel": {
           "align": "left"
          },
          "hovermode": "closest",
          "mapbox": {
           "style": "light"
          },
          "paper_bgcolor": "white",
          "plot_bgcolor": "#E5ECF6",
          "polar": {
           "angularaxis": {
            "gridcolor": "white",
            "linecolor": "white",
            "ticks": ""
           },
           "bgcolor": "#E5ECF6",
           "radialaxis": {
            "gridcolor": "white",
            "linecolor": "white",
            "ticks": ""
           }
          },
          "scene": {
           "xaxis": {
            "backgroundcolor": "#E5ECF6",
            "gridcolor": "white",
            "gridwidth": 2,
            "linecolor": "white",
            "showbackground": true,
            "ticks": "",
            "zerolinecolor": "white"
           },
           "yaxis": {
            "backgroundcolor": "#E5ECF6",
            "gridcolor": "white",
            "gridwidth": 2,
            "linecolor": "white",
            "showbackground": true,
            "ticks": "",
            "zerolinecolor": "white"
           },
           "zaxis": {
            "backgroundcolor": "#E5ECF6",
            "gridcolor": "white",
            "gridwidth": 2,
            "linecolor": "white",
            "showbackground": true,
            "ticks": "",
            "zerolinecolor": "white"
           }
          },
          "shapedefaults": {
           "line": {
            "color": "#2a3f5f"
           }
          },
          "ternary": {
           "aaxis": {
            "gridcolor": "white",
            "linecolor": "white",
            "ticks": ""
           },
           "baxis": {
            "gridcolor": "white",
            "linecolor": "white",
            "ticks": ""
           },
           "bgcolor": "#E5ECF6",
           "caxis": {
            "gridcolor": "white",
            "linecolor": "white",
            "ticks": ""
           }
          },
          "title": {
           "x": 0.05
          },
          "xaxis": {
           "automargin": true,
           "gridcolor": "white",
           "linecolor": "white",
           "ticks": "",
           "title": {
            "standoff": 15
           },
           "zerolinecolor": "white",
           "zerolinewidth": 2
          },
          "yaxis": {
           "automargin": true,
           "gridcolor": "white",
           "linecolor": "white",
           "ticks": "",
           "title": {
            "standoff": 15
           },
           "zerolinecolor": "white",
           "zerolinewidth": 2
          }
         }
        },
        "title": {
         "text": "Export Values by Country and Price Over Time"
        },
        "xaxis": {
         "anchor": "y",
         "domain": [
          0,
          0.94
         ],
         "showgrid": true,
         "tickangle": 45,
         "title": {
          "text": "Year, Quarter"
         }
        },
        "yaxis": {
         "anchor": "x",
         "domain": [
          0,
          1
         ],
         "showgrid": true,
         "title": {
          "text": "Export Values (in Million USD)"
         }
        },
        "yaxis2": {
         "anchor": "x",
         "overlaying": "y",
         "side": "right",
         "title": {
          "text": "Oil Price (in USD)"
         }
        }
       }
      }
     },
     "metadata": {},
     "output_type": "display_data"
    }
   ],
   "source": [
    "# Visualization of total Export values from the Netherlands to other 5 EU countries\n",
    "\n",
    "import plotly.graph_objects as go\n",
    "from plotly.subplots import make_subplots\n",
    "\n",
    "# Create a subplot with secondary y-axis\n",
    "fig = make_subplots(specs=[[{\"secondary_y\": True}]])\n",
    "\n",
    "# Add export data lines for each country\n",
    "countries = export_data.columns[2:7].tolist()\n",
    "\n",
    "for i, country in enumerate(countries):\n",
    "    fig.add_trace(\n",
    "        go.Scatter(x = export_data['Quarter'], y = export_data[country],\n",
    "                   mode = 'lines',\n",
    "                   name = country),\n",
    "        secondary_y = False,\n",
    "    )\n",
    "\n",
    "# Add Price line\n",
    "fig.add_trace(\n",
    "    go.Scatter(x = export_data['Quarter'], y = export_data['Price'],\n",
    "               mode = 'lines',\n",
    "               name = 'Oil Price'),\n",
    "    secondary_y = True,\n",
    ")\n",
    "\n",
    "# Update layout\n",
    "fig.update_layout(\n",
    "    title = 'Export Values by Country and Price Over Time', \n",
    "    xaxis = dict(showgrid = True, tickangle = 45),\n",
    "    yaxis = dict(showgrid = True),\n",
    "    xaxis_title = 'Year, Quarter',\n",
    "    yaxis_title = 'Export Values (in Million USD)',\n",
    "    yaxis2_title = 'Oil Price (in USD)',\n",
    ")\n",
    "\n",
    "# Show the figure\n",
    "fig.show()\n"
   ]
  },
  {
   "cell_type": "code",
   "execution_count": 46,
   "metadata": {},
   "outputs": [
    {
     "data": {
      "text/html": [
       "<style type=\"text/css\">\n",
       "#T_d40b0 th {\n",
       "  border: 1px solid black;\n",
       "}\n",
       "#T_d40b0 td {\n",
       "  border: 1px solid black;\n",
       "}\n",
       "</style>\n",
       "<table id=\"T_d40b0\">\n",
       "  <thead>\n",
       "    <tr>\n",
       "      <th class=\"blank level0\" >&nbsp;</th>\n",
       "      <th id=\"T_d40b0_level0_col0\" class=\"col_heading level0 col0\" >Quarter</th>\n",
       "      <th id=\"T_d40b0_level0_col1\" class=\"col_heading level0 col1\" >Price % Change</th>\n",
       "      <th id=\"T_d40b0_level0_col2\" class=\"col_heading level0 col2\" >Export Germany % Change</th>\n",
       "      <th id=\"T_d40b0_level0_col3\" class=\"col_heading level0 col3\" >Export Belgium % Change</th>\n",
       "      <th id=\"T_d40b0_level0_col4\" class=\"col_heading level0 col4\" >Export France % Change</th>\n",
       "      <th id=\"T_d40b0_level0_col5\" class=\"col_heading level0 col5\" >Export Italy % Change</th>\n",
       "      <th id=\"T_d40b0_level0_col6\" class=\"col_heading level0 col6\" >Export Poland % Change</th>\n",
       "    </tr>\n",
       "  </thead>\n",
       "  <tbody>\n",
       "    <tr>\n",
       "      <th id=\"T_d40b0_level0_row0\" class=\"row_heading level0 row0\" >0</th>\n",
       "      <td id=\"T_d40b0_row0_col0\" class=\"data row0 col0\" >2021 Q2</td>\n",
       "      <td id=\"T_d40b0_row0_col1\" class=\"data row0 col1\" >13.17</td>\n",
       "      <td id=\"T_d40b0_row0_col2\" class=\"data row0 col2\" >6.07</td>\n",
       "      <td id=\"T_d40b0_row0_col3\" class=\"data row0 col3\" >6.08</td>\n",
       "      <td id=\"T_d40b0_row0_col4\" class=\"data row0 col4\" >2.44</td>\n",
       "      <td id=\"T_d40b0_row0_col5\" class=\"data row0 col5\" >2.50</td>\n",
       "      <td id=\"T_d40b0_row0_col6\" class=\"data row0 col6\" >5.95</td>\n",
       "    </tr>\n",
       "    <tr>\n",
       "      <th id=\"T_d40b0_level0_row1\" class=\"row_heading level0 row1\" >1</th>\n",
       "      <td id=\"T_d40b0_row1_col0\" class=\"data row1 col0\" >2021 Q3</td>\n",
       "      <td id=\"T_d40b0_row1_col1\" class=\"data row1 col1\" >6.74</td>\n",
       "      <td id=\"T_d40b0_row1_col2\" class=\"data row1 col2\" >0.48</td>\n",
       "      <td id=\"T_d40b0_row1_col3\" class=\"data row1 col3\" >1.53</td>\n",
       "      <td id=\"T_d40b0_row1_col4\" class=\"data row1 col4\" >1.38</td>\n",
       "      <td id=\"T_d40b0_row1_col5\" class=\"data row1 col5\" >-2.94</td>\n",
       "      <td id=\"T_d40b0_row1_col6\" class=\"data row1 col6\" >-0.77</td>\n",
       "    </tr>\n",
       "    <tr>\n",
       "      <th id=\"T_d40b0_level0_row2\" class=\"row_heading level0 row2\" >2</th>\n",
       "      <td id=\"T_d40b0_row2_col0\" class=\"data row2 col0\" >2021 Q4</td>\n",
       "      <td id=\"T_d40b0_row2_col1\" class=\"data row2 col1\" >8.33</td>\n",
       "      <td id=\"T_d40b0_row2_col2\" class=\"data row2 col2\" >7.28</td>\n",
       "      <td id=\"T_d40b0_row2_col3\" class=\"data row2 col3\" >6.82</td>\n",
       "      <td id=\"T_d40b0_row2_col4\" class=\"data row2 col4\" >8.85</td>\n",
       "      <td id=\"T_d40b0_row2_col5\" class=\"data row2 col5\" >12.68</td>\n",
       "      <td id=\"T_d40b0_row2_col6\" class=\"data row2 col6\" >15.61</td>\n",
       "    </tr>\n",
       "    <tr>\n",
       "      <th id=\"T_d40b0_level0_row3\" class=\"row_heading level0 row3\" >3</th>\n",
       "      <td id=\"T_d40b0_row3_col0\" class=\"data row3 col0\" >2022 Q1</td>\n",
       "      <td id=\"T_d40b0_row3_col1\" class=\"data row3 col1\" >26.02</td>\n",
       "      <td id=\"T_d40b0_row3_col2\" class=\"data row3 col2\" >3.27</td>\n",
       "      <td id=\"T_d40b0_row3_col3\" class=\"data row3 col3\" >5.00</td>\n",
       "      <td id=\"T_d40b0_row3_col4\" class=\"data row3 col4\" >-2.76</td>\n",
       "      <td id=\"T_d40b0_row3_col5\" class=\"data row3 col5\" >2.25</td>\n",
       "      <td id=\"T_d40b0_row3_col6\" class=\"data row3 col6\" >1.08</td>\n",
       "    </tr>\n",
       "    <tr>\n",
       "      <th id=\"T_d40b0_level0_row4\" class=\"row_heading level0 row4\" >4</th>\n",
       "      <td id=\"T_d40b0_row4_col0\" class=\"data row4 col0\" >2022 Q2</td>\n",
       "      <td id=\"T_d40b0_row4_col1\" class=\"data row4 col1\" >13.20</td>\n",
       "      <td id=\"T_d40b0_row4_col2\" class=\"data row4 col2\" >4.68</td>\n",
       "      <td id=\"T_d40b0_row4_col3\" class=\"data row4 col3\" >7.60</td>\n",
       "      <td id=\"T_d40b0_row4_col4\" class=\"data row4 col4\" >0.82</td>\n",
       "      <td id=\"T_d40b0_row4_col5\" class=\"data row4 col5\" >0.05</td>\n",
       "      <td id=\"T_d40b0_row4_col6\" class=\"data row4 col6\" >-6.19</td>\n",
       "    </tr>\n",
       "    <tr>\n",
       "      <th id=\"T_d40b0_level0_row5\" class=\"row_heading level0 row5\" >5</th>\n",
       "      <td id=\"T_d40b0_row5_col0\" class=\"data row5 col0\" >2022 Q3</td>\n",
       "      <td id=\"T_d40b0_row5_col1\" class=\"data row5 col1\" >-11.30</td>\n",
       "      <td id=\"T_d40b0_row5_col2\" class=\"data row5 col2\" >-4.21</td>\n",
       "      <td id=\"T_d40b0_row5_col3\" class=\"data row5 col3\" >-7.12</td>\n",
       "      <td id=\"T_d40b0_row5_col4\" class=\"data row5 col4\" >-3.97</td>\n",
       "      <td id=\"T_d40b0_row5_col5\" class=\"data row5 col5\" >-11.00</td>\n",
       "      <td id=\"T_d40b0_row5_col6\" class=\"data row5 col6\" >-5.26</td>\n",
       "    </tr>\n",
       "    <tr>\n",
       "      <th id=\"T_d40b0_level0_row6\" class=\"row_heading level0 row6\" >6</th>\n",
       "      <td id=\"T_d40b0_row6_col0\" class=\"data row6 col0\" >2022 Q4</td>\n",
       "      <td id=\"T_d40b0_row6_col1\" class=\"data row6 col1\" >-12.06</td>\n",
       "      <td id=\"T_d40b0_row6_col2\" class=\"data row6 col2\" >-0.72</td>\n",
       "      <td id=\"T_d40b0_row6_col3\" class=\"data row6 col3\" >3.65</td>\n",
       "      <td id=\"T_d40b0_row6_col4\" class=\"data row6 col4\" >12.06</td>\n",
       "      <td id=\"T_d40b0_row6_col5\" class=\"data row6 col5\" >6.69</td>\n",
       "      <td id=\"T_d40b0_row6_col6\" class=\"data row6 col6\" >10.52</td>\n",
       "    </tr>\n",
       "    <tr>\n",
       "      <th id=\"T_d40b0_level0_row7\" class=\"row_heading level0 row7\" >7</th>\n",
       "      <td id=\"T_d40b0_row7_col0\" class=\"data row7 col0\" >2023 Q1</td>\n",
       "      <td id=\"T_d40b0_row7_col1\" class=\"data row7 col1\" >-8.34</td>\n",
       "      <td id=\"T_d40b0_row7_col2\" class=\"data row7 col2\" >7.03</td>\n",
       "      <td id=\"T_d40b0_row7_col3\" class=\"data row7 col3\" >-2.39</td>\n",
       "      <td id=\"T_d40b0_row7_col4\" class=\"data row7 col4\" >-2.93</td>\n",
       "      <td id=\"T_d40b0_row7_col5\" class=\"data row7 col5\" >11.39</td>\n",
       "      <td id=\"T_d40b0_row7_col6\" class=\"data row7 col6\" >6.40</td>\n",
       "    </tr>\n",
       "    <tr>\n",
       "      <th id=\"T_d40b0_level0_row8\" class=\"row_heading level0 row8\" >8</th>\n",
       "      <td id=\"T_d40b0_row8_col0\" class=\"data row8 col0\" >2023 Q2</td>\n",
       "      <td id=\"T_d40b0_row8_col1\" class=\"data row8 col1\" >-3.51</td>\n",
       "      <td id=\"T_d40b0_row8_col2\" class=\"data row8 col2\" >-4.26</td>\n",
       "      <td id=\"T_d40b0_row8_col3\" class=\"data row8 col3\" >-2.37</td>\n",
       "      <td id=\"T_d40b0_row8_col4\" class=\"data row8 col4\" >-2.27</td>\n",
       "      <td id=\"T_d40b0_row8_col5\" class=\"data row8 col5\" >-5.66</td>\n",
       "      <td id=\"T_d40b0_row8_col6\" class=\"data row8 col6\" >-5.73</td>\n",
       "    </tr>\n",
       "    <tr>\n",
       "      <th id=\"T_d40b0_level0_row9\" class=\"row_heading level0 row9\" >9</th>\n",
       "      <td id=\"T_d40b0_row9_col0\" class=\"data row9 col0\" >2023 Q3</td>\n",
       "      <td id=\"T_d40b0_row9_col1\" class=\"data row9 col1\" >10.65</td>\n",
       "      <td id=\"T_d40b0_row9_col2\" class=\"data row9 col2\" >-3.40</td>\n",
       "      <td id=\"T_d40b0_row9_col3\" class=\"data row9 col3\" >2.47</td>\n",
       "      <td id=\"T_d40b0_row9_col4\" class=\"data row9 col4\" >-5.96</td>\n",
       "      <td id=\"T_d40b0_row9_col5\" class=\"data row9 col5\" >-7.53</td>\n",
       "      <td id=\"T_d40b0_row9_col6\" class=\"data row9 col6\" >-4.90</td>\n",
       "    </tr>\n",
       "    <tr>\n",
       "      <th id=\"T_d40b0_level0_row10\" class=\"row_heading level0 row10\" >10</th>\n",
       "      <td id=\"T_d40b0_row10_col0\" class=\"data row10 col0\" >2023 Q4</td>\n",
       "      <td id=\"T_d40b0_row10_col1\" class=\"data row10 col1\" >-3.39</td>\n",
       "      <td id=\"T_d40b0_row10_col2\" class=\"data row10 col2\" >-1.38</td>\n",
       "      <td id=\"T_d40b0_row10_col3\" class=\"data row10 col3\" >-0.62</td>\n",
       "      <td id=\"T_d40b0_row10_col4\" class=\"data row10 col4\" >7.61</td>\n",
       "      <td id=\"T_d40b0_row10_col5\" class=\"data row10 col5\" >9.77</td>\n",
       "      <td id=\"T_d40b0_row10_col6\" class=\"data row10 col6\" >9.92</td>\n",
       "    </tr>\n",
       "  </tbody>\n",
       "</table>\n"
      ],
      "text/plain": [
       "<pandas.io.formats.style.Styler at 0x22fd8e4c710>"
      ]
     },
     "execution_count": 46,
     "metadata": {},
     "output_type": "execute_result"
    }
   ],
   "source": [
    "# Set 'Quarter' as the index for calculating percentage changes\n",
    "export_data.set_index('Quarter', inplace=True)\n",
    "\n",
    "# Calculate quarter-to-quarter percentage change\n",
    "percent_change = export_data.pct_change() * 100  # This gives the percentage change for each column\n",
    "percent_change = percent_change.rename(columns=lambda x: f\"{x} % Change\")\n",
    "\n",
    "# Drop any NaN values in the first row (since pct_change produces NaN for the first row)\n",
    "percent_change = percent_change.dropna().reset_index()\n",
    "\n",
    "# Apply table styling with borders and format only numeric columns to two decimal places\n",
    "styled_percent_change = percent_change.style.set_table_styles(\n",
    "    [{'selector': 'th', 'props': [('border', '1px solid black')]},\n",
    "     {'selector': 'td', 'props': [('border', '1px solid black')]}]\n",
    ").format({col: \"{:.2f}\" for col in percent_change.columns if percent_change[col].dtype != \"object\"})\n",
    "\n",
    "# Display the styled DataFrame\n",
    "styled_percent_change\n"
   ]
  },
  {
   "cell_type": "code",
   "execution_count": 50,
   "metadata": {},
   "outputs": [
    {
     "data": {
      "application/vnd.plotly.v1+json": {
       "config": {
        "plotlyServerURL": "https://plot.ly"
       },
       "data": [
        {
         "mode": "lines",
         "name": "Price % Change",
         "type": "scatter",
         "x": [
          "2021 Q2",
          "2021 Q3",
          "2021 Q4",
          "2022 Q1",
          "2022 Q2",
          "2022 Q3",
          "2022 Q4",
          "2023 Q1",
          "2023 Q2",
          "2023 Q3",
          "2023 Q4"
         ],
         "y": [
          13.170009865175935,
          6.741246549469704,
          8.329930583911803,
          26.020856891569277,
          13.200398803589252,
          -11.299982385062545,
          -12.06434316353887,
          -8.344625112917791,
          -3.5111494394480802,
          10.64862104187947,
          -3.392568659127626
         ]
        },
        {
         "mode": "lines",
         "name": "Export Germany % Change",
         "type": "scatter",
         "x": [
          "2021 Q2",
          "2021 Q3",
          "2021 Q4",
          "2022 Q1",
          "2022 Q2",
          "2022 Q3",
          "2022 Q4",
          "2023 Q1",
          "2023 Q2",
          "2023 Q3",
          "2023 Q4"
         ],
         "y": [
          6.074160106651183,
          0.4816140338640862,
          7.281503670080158,
          3.266101229884155,
          4.6812685871613136,
          -4.209384295844066,
          -0.7212678500263303,
          7.032695681181322,
          -4.264975024608586,
          -3.4006744556213997,
          -1.3762203411242568
         ]
        },
        {
         "mode": "lines",
         "name": "Export Belgium % Change",
         "type": "scatter",
         "x": [
          "2021 Q2",
          "2021 Q3",
          "2021 Q4",
          "2022 Q1",
          "2022 Q2",
          "2022 Q3",
          "2022 Q4",
          "2023 Q1",
          "2023 Q2",
          "2023 Q3",
          "2023 Q4"
         ],
         "y": [
          6.077391348254135,
          1.526435038140317,
          6.818087532171657,
          5.001821466455936,
          7.597275153089855,
          -7.120195484411673,
          3.6525144268803045,
          -2.3858634825378755,
          -2.370745800051044,
          2.4720580557093363,
          -0.6187392438778305
         ]
        },
        {
         "mode": "lines",
         "name": "Export France % Change",
         "type": "scatter",
         "x": [
          "2021 Q2",
          "2021 Q3",
          "2021 Q4",
          "2022 Q1",
          "2022 Q2",
          "2022 Q3",
          "2022 Q4",
          "2023 Q1",
          "2023 Q2",
          "2023 Q3",
          "2023 Q4"
         ],
         "y": [
          2.435129561876015,
          1.380422788626623,
          8.85440345948927,
          -2.7566695280170195,
          0.8192711133141906,
          -3.973765215628011,
          12.062109132546617,
          -2.930867941725601,
          -2.274093336378258,
          -5.963859859325882,
          7.6074551191886775
         ]
        },
        {
         "mode": "lines",
         "name": "Export Italy % Change",
         "type": "scatter",
         "x": [
          "2021 Q2",
          "2021 Q3",
          "2021 Q4",
          "2022 Q1",
          "2022 Q2",
          "2022 Q3",
          "2022 Q4",
          "2023 Q1",
          "2023 Q2",
          "2023 Q3",
          "2023 Q4"
         ],
         "y": [
          2.4991248508116515,
          -2.9390664268805766,
          12.67500669974111,
          2.2536032947381157,
          0.04629768958739344,
          -10.99884812456141,
          6.690079748081268,
          11.385389484139075,
          -5.655566818506208,
          -7.527744715604379,
          9.770354086474509
         ]
        },
        {
         "mode": "lines",
         "name": "Export Poland % Change",
         "type": "scatter",
         "x": [
          "2021 Q2",
          "2021 Q3",
          "2021 Q4",
          "2022 Q1",
          "2022 Q2",
          "2022 Q3",
          "2022 Q4",
          "2023 Q1",
          "2023 Q2",
          "2023 Q3",
          "2023 Q4"
         ],
         "y": [
          5.95096340069019,
          -0.7678828437684859,
          15.610265930029676,
          1.075232003250104,
          -6.194963837358836,
          -5.2645871655199965,
          10.52265553874876,
          6.399533945312164,
          -5.734619753484205,
          -4.899835501696814,
          9.922514650145198
         ]
        }
       ],
       "layout": {
        "template": {
         "data": {
          "bar": [
           {
            "error_x": {
             "color": "#2a3f5f"
            },
            "error_y": {
             "color": "#2a3f5f"
            },
            "marker": {
             "line": {
              "color": "white",
              "width": 0.5
             },
             "pattern": {
              "fillmode": "overlay",
              "size": 10,
              "solidity": 0.2
             }
            },
            "type": "bar"
           }
          ],
          "barpolar": [
           {
            "marker": {
             "line": {
              "color": "white",
              "width": 0.5
             },
             "pattern": {
              "fillmode": "overlay",
              "size": 10,
              "solidity": 0.2
             }
            },
            "type": "barpolar"
           }
          ],
          "carpet": [
           {
            "aaxis": {
             "endlinecolor": "#2a3f5f",
             "gridcolor": "#C8D4E3",
             "linecolor": "#C8D4E3",
             "minorgridcolor": "#C8D4E3",
             "startlinecolor": "#2a3f5f"
            },
            "baxis": {
             "endlinecolor": "#2a3f5f",
             "gridcolor": "#C8D4E3",
             "linecolor": "#C8D4E3",
             "minorgridcolor": "#C8D4E3",
             "startlinecolor": "#2a3f5f"
            },
            "type": "carpet"
           }
          ],
          "choropleth": [
           {
            "colorbar": {
             "outlinewidth": 0,
             "ticks": ""
            },
            "type": "choropleth"
           }
          ],
          "contour": [
           {
            "colorbar": {
             "outlinewidth": 0,
             "ticks": ""
            },
            "colorscale": [
             [
              0,
              "#0d0887"
             ],
             [
              0.1111111111111111,
              "#46039f"
             ],
             [
              0.2222222222222222,
              "#7201a8"
             ],
             [
              0.3333333333333333,
              "#9c179e"
             ],
             [
              0.4444444444444444,
              "#bd3786"
             ],
             [
              0.5555555555555556,
              "#d8576b"
             ],
             [
              0.6666666666666666,
              "#ed7953"
             ],
             [
              0.7777777777777778,
              "#fb9f3a"
             ],
             [
              0.8888888888888888,
              "#fdca26"
             ],
             [
              1,
              "#f0f921"
             ]
            ],
            "type": "contour"
           }
          ],
          "contourcarpet": [
           {
            "colorbar": {
             "outlinewidth": 0,
             "ticks": ""
            },
            "type": "contourcarpet"
           }
          ],
          "heatmap": [
           {
            "colorbar": {
             "outlinewidth": 0,
             "ticks": ""
            },
            "colorscale": [
             [
              0,
              "#0d0887"
             ],
             [
              0.1111111111111111,
              "#46039f"
             ],
             [
              0.2222222222222222,
              "#7201a8"
             ],
             [
              0.3333333333333333,
              "#9c179e"
             ],
             [
              0.4444444444444444,
              "#bd3786"
             ],
             [
              0.5555555555555556,
              "#d8576b"
             ],
             [
              0.6666666666666666,
              "#ed7953"
             ],
             [
              0.7777777777777778,
              "#fb9f3a"
             ],
             [
              0.8888888888888888,
              "#fdca26"
             ],
             [
              1,
              "#f0f921"
             ]
            ],
            "type": "heatmap"
           }
          ],
          "heatmapgl": [
           {
            "colorbar": {
             "outlinewidth": 0,
             "ticks": ""
            },
            "colorscale": [
             [
              0,
              "#0d0887"
             ],
             [
              0.1111111111111111,
              "#46039f"
             ],
             [
              0.2222222222222222,
              "#7201a8"
             ],
             [
              0.3333333333333333,
              "#9c179e"
             ],
             [
              0.4444444444444444,
              "#bd3786"
             ],
             [
              0.5555555555555556,
              "#d8576b"
             ],
             [
              0.6666666666666666,
              "#ed7953"
             ],
             [
              0.7777777777777778,
              "#fb9f3a"
             ],
             [
              0.8888888888888888,
              "#fdca26"
             ],
             [
              1,
              "#f0f921"
             ]
            ],
            "type": "heatmapgl"
           }
          ],
          "histogram": [
           {
            "marker": {
             "pattern": {
              "fillmode": "overlay",
              "size": 10,
              "solidity": 0.2
             }
            },
            "type": "histogram"
           }
          ],
          "histogram2d": [
           {
            "colorbar": {
             "outlinewidth": 0,
             "ticks": ""
            },
            "colorscale": [
             [
              0,
              "#0d0887"
             ],
             [
              0.1111111111111111,
              "#46039f"
             ],
             [
              0.2222222222222222,
              "#7201a8"
             ],
             [
              0.3333333333333333,
              "#9c179e"
             ],
             [
              0.4444444444444444,
              "#bd3786"
             ],
             [
              0.5555555555555556,
              "#d8576b"
             ],
             [
              0.6666666666666666,
              "#ed7953"
             ],
             [
              0.7777777777777778,
              "#fb9f3a"
             ],
             [
              0.8888888888888888,
              "#fdca26"
             ],
             [
              1,
              "#f0f921"
             ]
            ],
            "type": "histogram2d"
           }
          ],
          "histogram2dcontour": [
           {
            "colorbar": {
             "outlinewidth": 0,
             "ticks": ""
            },
            "colorscale": [
             [
              0,
              "#0d0887"
             ],
             [
              0.1111111111111111,
              "#46039f"
             ],
             [
              0.2222222222222222,
              "#7201a8"
             ],
             [
              0.3333333333333333,
              "#9c179e"
             ],
             [
              0.4444444444444444,
              "#bd3786"
             ],
             [
              0.5555555555555556,
              "#d8576b"
             ],
             [
              0.6666666666666666,
              "#ed7953"
             ],
             [
              0.7777777777777778,
              "#fb9f3a"
             ],
             [
              0.8888888888888888,
              "#fdca26"
             ],
             [
              1,
              "#f0f921"
             ]
            ],
            "type": "histogram2dcontour"
           }
          ],
          "mesh3d": [
           {
            "colorbar": {
             "outlinewidth": 0,
             "ticks": ""
            },
            "type": "mesh3d"
           }
          ],
          "parcoords": [
           {
            "line": {
             "colorbar": {
              "outlinewidth": 0,
              "ticks": ""
             }
            },
            "type": "parcoords"
           }
          ],
          "pie": [
           {
            "automargin": true,
            "type": "pie"
           }
          ],
          "scatter": [
           {
            "fillpattern": {
             "fillmode": "overlay",
             "size": 10,
             "solidity": 0.2
            },
            "type": "scatter"
           }
          ],
          "scatter3d": [
           {
            "line": {
             "colorbar": {
              "outlinewidth": 0,
              "ticks": ""
             }
            },
            "marker": {
             "colorbar": {
              "outlinewidth": 0,
              "ticks": ""
             }
            },
            "type": "scatter3d"
           }
          ],
          "scattercarpet": [
           {
            "marker": {
             "colorbar": {
              "outlinewidth": 0,
              "ticks": ""
             }
            },
            "type": "scattercarpet"
           }
          ],
          "scattergeo": [
           {
            "marker": {
             "colorbar": {
              "outlinewidth": 0,
              "ticks": ""
             }
            },
            "type": "scattergeo"
           }
          ],
          "scattergl": [
           {
            "marker": {
             "colorbar": {
              "outlinewidth": 0,
              "ticks": ""
             }
            },
            "type": "scattergl"
           }
          ],
          "scattermapbox": [
           {
            "marker": {
             "colorbar": {
              "outlinewidth": 0,
              "ticks": ""
             }
            },
            "type": "scattermapbox"
           }
          ],
          "scatterpolar": [
           {
            "marker": {
             "colorbar": {
              "outlinewidth": 0,
              "ticks": ""
             }
            },
            "type": "scatterpolar"
           }
          ],
          "scatterpolargl": [
           {
            "marker": {
             "colorbar": {
              "outlinewidth": 0,
              "ticks": ""
             }
            },
            "type": "scatterpolargl"
           }
          ],
          "scatterternary": [
           {
            "marker": {
             "colorbar": {
              "outlinewidth": 0,
              "ticks": ""
             }
            },
            "type": "scatterternary"
           }
          ],
          "surface": [
           {
            "colorbar": {
             "outlinewidth": 0,
             "ticks": ""
            },
            "colorscale": [
             [
              0,
              "#0d0887"
             ],
             [
              0.1111111111111111,
              "#46039f"
             ],
             [
              0.2222222222222222,
              "#7201a8"
             ],
             [
              0.3333333333333333,
              "#9c179e"
             ],
             [
              0.4444444444444444,
              "#bd3786"
             ],
             [
              0.5555555555555556,
              "#d8576b"
             ],
             [
              0.6666666666666666,
              "#ed7953"
             ],
             [
              0.7777777777777778,
              "#fb9f3a"
             ],
             [
              0.8888888888888888,
              "#fdca26"
             ],
             [
              1,
              "#f0f921"
             ]
            ],
            "type": "surface"
           }
          ],
          "table": [
           {
            "cells": {
             "fill": {
              "color": "#EBF0F8"
             },
             "line": {
              "color": "white"
             }
            },
            "header": {
             "fill": {
              "color": "#C8D4E3"
             },
             "line": {
              "color": "white"
             }
            },
            "type": "table"
           }
          ]
         },
         "layout": {
          "annotationdefaults": {
           "arrowcolor": "#2a3f5f",
           "arrowhead": 0,
           "arrowwidth": 1
          },
          "autotypenumbers": "strict",
          "coloraxis": {
           "colorbar": {
            "outlinewidth": 0,
            "ticks": ""
           }
          },
          "colorscale": {
           "diverging": [
            [
             0,
             "#8e0152"
            ],
            [
             0.1,
             "#c51b7d"
            ],
            [
             0.2,
             "#de77ae"
            ],
            [
             0.3,
             "#f1b6da"
            ],
            [
             0.4,
             "#fde0ef"
            ],
            [
             0.5,
             "#f7f7f7"
            ],
            [
             0.6,
             "#e6f5d0"
            ],
            [
             0.7,
             "#b8e186"
            ],
            [
             0.8,
             "#7fbc41"
            ],
            [
             0.9,
             "#4d9221"
            ],
            [
             1,
             "#276419"
            ]
           ],
           "sequential": [
            [
             0,
             "#0d0887"
            ],
            [
             0.1111111111111111,
             "#46039f"
            ],
            [
             0.2222222222222222,
             "#7201a8"
            ],
            [
             0.3333333333333333,
             "#9c179e"
            ],
            [
             0.4444444444444444,
             "#bd3786"
            ],
            [
             0.5555555555555556,
             "#d8576b"
            ],
            [
             0.6666666666666666,
             "#ed7953"
            ],
            [
             0.7777777777777778,
             "#fb9f3a"
            ],
            [
             0.8888888888888888,
             "#fdca26"
            ],
            [
             1,
             "#f0f921"
            ]
           ],
           "sequentialminus": [
            [
             0,
             "#0d0887"
            ],
            [
             0.1111111111111111,
             "#46039f"
            ],
            [
             0.2222222222222222,
             "#7201a8"
            ],
            [
             0.3333333333333333,
             "#9c179e"
            ],
            [
             0.4444444444444444,
             "#bd3786"
            ],
            [
             0.5555555555555556,
             "#d8576b"
            ],
            [
             0.6666666666666666,
             "#ed7953"
            ],
            [
             0.7777777777777778,
             "#fb9f3a"
            ],
            [
             0.8888888888888888,
             "#fdca26"
            ],
            [
             1,
             "#f0f921"
            ]
           ]
          },
          "colorway": [
           "#636efa",
           "#EF553B",
           "#00cc96",
           "#ab63fa",
           "#FFA15A",
           "#19d3f3",
           "#FF6692",
           "#B6E880",
           "#FF97FF",
           "#FECB52"
          ],
          "font": {
           "color": "#2a3f5f"
          },
          "geo": {
           "bgcolor": "white",
           "lakecolor": "white",
           "landcolor": "white",
           "showlakes": true,
           "showland": true,
           "subunitcolor": "#C8D4E3"
          },
          "hoverlabel": {
           "align": "left"
          },
          "hovermode": "closest",
          "mapbox": {
           "style": "light"
          },
          "paper_bgcolor": "white",
          "plot_bgcolor": "white",
          "polar": {
           "angularaxis": {
            "gridcolor": "#EBF0F8",
            "linecolor": "#EBF0F8",
            "ticks": ""
           },
           "bgcolor": "white",
           "radialaxis": {
            "gridcolor": "#EBF0F8",
            "linecolor": "#EBF0F8",
            "ticks": ""
           }
          },
          "scene": {
           "xaxis": {
            "backgroundcolor": "white",
            "gridcolor": "#DFE8F3",
            "gridwidth": 2,
            "linecolor": "#EBF0F8",
            "showbackground": true,
            "ticks": "",
            "zerolinecolor": "#EBF0F8"
           },
           "yaxis": {
            "backgroundcolor": "white",
            "gridcolor": "#DFE8F3",
            "gridwidth": 2,
            "linecolor": "#EBF0F8",
            "showbackground": true,
            "ticks": "",
            "zerolinecolor": "#EBF0F8"
           },
           "zaxis": {
            "backgroundcolor": "white",
            "gridcolor": "#DFE8F3",
            "gridwidth": 2,
            "linecolor": "#EBF0F8",
            "showbackground": true,
            "ticks": "",
            "zerolinecolor": "#EBF0F8"
           }
          },
          "shapedefaults": {
           "line": {
            "color": "#2a3f5f"
           }
          },
          "ternary": {
           "aaxis": {
            "gridcolor": "#DFE8F3",
            "linecolor": "#A2B1C6",
            "ticks": ""
           },
           "baxis": {
            "gridcolor": "#DFE8F3",
            "linecolor": "#A2B1C6",
            "ticks": ""
           },
           "bgcolor": "white",
           "caxis": {
            "gridcolor": "#DFE8F3",
            "linecolor": "#A2B1C6",
            "ticks": ""
           }
          },
          "title": {
           "x": 0.05
          },
          "xaxis": {
           "automargin": true,
           "gridcolor": "#EBF0F8",
           "linecolor": "#EBF0F8",
           "ticks": "",
           "title": {
            "standoff": 15
           },
           "zerolinecolor": "#EBF0F8",
           "zerolinewidth": 2
          },
          "yaxis": {
           "automargin": true,
           "gridcolor": "#EBF0F8",
           "linecolor": "#EBF0F8",
           "ticks": "",
           "title": {
            "standoff": 15
           },
           "zerolinecolor": "#EBF0F8",
           "zerolinewidth": 2
          }
         }
        },
        "title": {
         "text": "Percentage Difference in Export Values per Country"
        },
        "xaxis": {
         "anchor": "y",
         "domain": [
          0,
          1
         ],
         "title": {
          "text": "Year, Quarter"
         }
        },
        "yaxis": {
         "anchor": "x",
         "domain": [
          0,
          1
         ],
         "title": {
          "text": "Percentage Difference (%)"
         }
        }
       }
      }
     },
     "metadata": {},
     "output_type": "display_data"
    }
   ],
   "source": [
    "import plotly.graph_objects as go\n",
    "from plotly.subplots import make_subplots\n",
    "\n",
    "# Create a line plot for each country\n",
    "fig = make_subplots(specs=[[{\"secondary_y\": False}]])\n",
    "\n",
    "# Add a line for each country's export percentage difference\n",
    "for col in percent_change.columns[1:]:  # Skip the \"Quarter\" column\n",
    "    fig.add_trace(\n",
    "        go.Scatter(x=percent_change[\"Quarter\"], y=percent_change[col], mode='lines', name=col)\n",
    "    )\n",
    "\n",
    "# Update layout\n",
    "fig.update_layout(\n",
    "    title=\"Percentage Difference in Export Values per Country\",\n",
    "    xaxis_title=\"Year, Quarter\",\n",
    "    yaxis_title=\"Percentage Difference (%)\",\n",
    "    template=\"plotly_white\"\n",
    ")\n",
    "\n",
    "# Show the plot\n",
    "fig.show()"
   ]
  },
  {
   "cell_type": "code",
   "execution_count": null,
   "metadata": {},
   "outputs": [],
   "source": []
  }
 ],
 "metadata": {
  "kernelspec": {
   "display_name": "TIL6022",
   "language": "python",
   "name": "python3"
  },
  "language_info": {
   "codemirror_mode": {
    "name": "ipython",
    "version": 3
   },
   "file_extension": ".py",
   "mimetype": "text/x-python",
   "name": "python",
   "nbconvert_exporter": "python",
   "pygments_lexer": "ipython3",
   "version": "3.12.5"
  }
 },
 "nbformat": 4,
 "nbformat_minor": 4
}
