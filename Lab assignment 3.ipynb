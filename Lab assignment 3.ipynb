{
 "cells": [
  {
   "cell_type": "markdown",
   "metadata": {},
   "source": [
    "# Sum of possitive numbers"
   ]
  },
  {
   "cell_type": "markdown",
   "metadata": {},
   "source": [
    "Calculate the sum of all possitive numbers in a list.  \n",
    "Example: for the list [2, -1, 3], the expected sum is 2 + 3 = 5"
   ]
  },
  {
   "cell_type": "code",
   "execution_count": 4,
   "metadata": {},
   "outputs": [
    {
     "name": "stdout",
     "output_type": "stream",
     "text": [
      "5\n"
     ]
    }
   ],
   "source": [
    "a = [2, -1, 3]\n",
    "# YOUR CODE HERE\n",
    "sum = 0\n",
    "for i in a:\n",
    "    if i > 0:\n",
    "        sum += i\n",
    "print(sum)\n",
    "    # Hint:\n",
    "# - Loop through elements of the list\n",
    "# - Use conditional statement to check if an element is possitive\n",
    "# - If yes, add to the final sum"
   ]
  },
  {
   "cell_type": "markdown",
   "metadata": {},
   "source": [
    "Now, use the code that you've developed to create a function that takes in a list and returns the sum of positive numbers."
   ]
  },
  {
   "cell_type": "code",
   "execution_count": 6,
   "metadata": {},
   "outputs": [
    {
     "name": "stdout",
     "output_type": "stream",
     "text": [
      "5\n"
     ]
    }
   ],
   "source": [
    "def sum_positives(a_list):\n",
    "    # YOUR CODE HERE\n",
    "    sum = 0\n",
    "    for i in a_list:\n",
    "        if i > 0:\n",
    "            sum += i\n",
    "    print(sum)\n",
    "    return\n",
    "\n",
    "sum_positives(a)"
   ]
  },
  {
   "cell_type": "markdown",
   "metadata": {},
   "source": [
    "Call the function with the list `a` above."
   ]
  },
  {
   "cell_type": "markdown",
   "metadata": {},
   "source": [
    "# Body Mass Index\n",
    "\n",
    "Let's evaluate the Body Mass Index (BMI) of a user based on a given weight and height\n",
    "\n",
    "Body Mass Index is a simple calculation using a person’s height and weight. The formula is BMI = kg/m2 where kg is a person’s weight in kilograms and m2 is their height in metres squared.\n",
    "\n",
    "A BMI of 25.0 or more is overweight, while the healthy range is 18.5 to 24.9. BMI applies to most adults 18-65 years.\n",
    "\n",
    "instruction: \n",
    "- write  this program in a .py file. \n",
    "- open the file BMI.py\n",
    "- ask users to input their height, weight, and age \n",
    "- make sure that they input their height in meter and if they entered in cm, then convert it to meter. \n",
    "- check if the user is eligible for this index based on their age. \n",
    "- calculate the BMI ( only if eligible)\n",
    "- based on BMI send approaprate message to users whether they are over-weighted, under-weighted or normal. \n",
    "- ask the users if they want to exit (Y|N)? \n",
    "- countinue asking for height, weight and age if the answer is No (N). "
   ]
  },
  {
   "cell_type": "code",
   "execution_count": 9,
   "metadata": {},
   "outputs": [
    {
     "name": "stdout",
     "output_type": "stream",
     "text": [
      "\u001b[H\u001b[2J"
     ]
    },
    {
     "name": "stdin",
     "output_type": "stream",
     "text": [
      "Input your age here: 27\n",
      "Input your height (in meter) here: 168\n",
      "Input your weight (in kg) here: 75\n"
     ]
    },
    {
     "name": "stdout",
     "output_type": "stream",
     "text": [
      "Your Body Mass Index (BMI) is 26.57\n",
      "From the BMI result, you are overweight\n"
     ]
    },
    {
     "name": "stdin",
     "output_type": "stream",
     "text": [
      "Do you want to exit? (Y/N)  Y\n"
     ]
    }
   ],
   "source": [
    "# This program calculates body mass index of users using their weight and height. \n",
    "\n",
    "import os    \n",
    "import sys\n",
    "\n",
    "os.system(\"clear\")\n",
    "\n",
    "# YOUR CODE HERE! \n",
    "def BMI_calculator():\n",
    "    age = int(input(\"Input your age here:\"))\n",
    "    if age < 18 or age > 65: #Find out the eligibility based on the user's age\n",
    "        print(\"This BMI is not eligible for your age\")\n",
    "    else:\n",
    "        height = float(input(\"Input your height (in meter) here:\"))\n",
    "        if height > 2.5: #Converting cm to m in case the user puts it in cm (with assumption the height is more than 2.5)\n",
    "            height = height / 100\n",
    "            weight = float(input(\"Input your weight (in kg) here:\"))\n",
    "        else:\n",
    "            weight = float(input(\"Input your weight (in kg) here:\"))\n",
    "\n",
    "        BMI = round(weight / (height ** 2), 2) #Calculating the BMI\n",
    "    \n",
    "        print(f\"Your Body Mass Index (BMI) is {BMI}\") #Conditions based on the BMI result\n",
    "        if BMI < 18.5:\n",
    "            print(\"From the BMI result, you are underweight\")\n",
    "        elif BMI >= 18.5 and BMI < 24.9:\n",
    "            print(\"From the BMI result, you have a normal weight\")\n",
    "        else:\n",
    "            print(\"From the BMI result, you are overweight\")\n",
    "\n",
    "        response = input(\"Do you want to exit? (Y/N) \") #Asks user if they want to exit the program\n",
    "        if response == \"Y\":\n",
    "            exit()\n",
    "        else:\n",
    "            BMI_calculator()\n",
    "        return\n",
    "\n",
    "BMI_calculator()"
   ]
  },
  {
   "cell_type": "markdown",
   "metadata": {},
   "source": [
    "# Fibonacci\n",
    "\n",
    "The [Fibonacci](https://en.wikipedia.org/wiki/Fibonacci_number) series starts with 0 and 1. The next number is the sum of the last two numbers.  \n",
    "$ x_0 = 0, x_1 = 1, x_{n+1} = x_n + x_{n-1}$  \n",
    "\n",
    "- Write a function `get_Fibonacci_number` to compute $x_n$ of the Fibonacci series.\n",
    "E.g: \n",
    "    - `get_Fibonacci_number(0)` returns 0\n",
    "    - `get_Fibonacci_number(1)` returns 1\n",
    "    - `get_Fibonacci_number(3)` returns 2\n",
    "\n",
    "- Approximate the golden ratio: \n",
    "\n",
    "$\\lim_{x \\to \\infty}  \\frac{fib_x}{fib_(x-1)} $\n",
    "\n",
    "Hint: you can use loops, generators functions, or recursive functions. For the golden ratio, you can think of a big enouph number ( e.g. 1000) to represent infinity. \n",
    "\n",
    "- create a list 100 golden ratio for the first 100 fibonacci numbers and plot the result using the matplotlib library. \n",
    "\n"
   ]
  },
  {
   "cell_type": "code",
   "execution_count": 8,
   "metadata": {},
   "outputs": [
    {
     "data": {
      "text/plain": [
       "102334155"
      ]
     },
     "execution_count": 8,
     "metadata": {},
     "output_type": "execute_result"
    }
   ],
   "source": [
    "def get_Fibonacci_number(n): #Function to get the n + 1 Fibonacci number (as it starts from 0)\n",
    "    # YOUR CODE HERE\n",
    "    if n in {0, 1}:\n",
    "        return n\n",
    "    a, b = 0, 1\n",
    "    for _ in range(2, n + 1):\n",
    "        a, b = b, a + b\n",
    "    return b\n",
    "\n",
    "get_Fibonacci_number(40)"
   ]
  },
  {
   "cell_type": "code",
   "execution_count": 10,
   "metadata": {},
   "outputs": [
    {
     "data": {
      "text/plain": [
       "1.618033988749895"
      ]
     },
     "execution_count": 10,
     "metadata": {},
     "output_type": "execute_result"
    }
   ],
   "source": [
    "def golden_ratio(n): #Defining the calculation for golden ratio\n",
    "    golden_ratio = get_Fibonacci_number(n) / get_Fibonacci_number(n - 1)\n",
    "    return golden_ratio\n",
    "\n",
    "golden_ratio(2024) #calculating the converging limit of golden ratio"
   ]
  },
  {
   "cell_type": "code",
   "execution_count": 12,
   "metadata": {},
   "outputs": [
    {
     "data": {
      "image/png": "[encoded data removed]",
      "text/plain": [
       "<Figure size 640x480 with 1 Axes>"
      ]
     },
     "metadata": {},
     "output_type": "display_data"
    }
   ],
   "source": [
    "import numpy as np\n",
    "from matplotlib import pyplot as plt\n",
    "\n",
    "n = np.arange(1, 101)\n",
    "Fibonacci_number = [get_Fibonacci_number(i) for i in n]\n",
    "golden_ratio = [Fibonacci_number[i + 1] / Fibonacci_number[i] for i in range(len(Fibonacci_number) - 1)]\n",
    "\n",
    "#Graphing the first 100 golden ratios\n",
    "plt.plot(n[:-1], golden_ratio)\n",
    "plt.xlabel(\"n\")\n",
    "plt.ylabel(\"Golden Ratio\")\n",
    "plt.show()"
   ]
  },
  {
   "cell_type": "markdown",
   "metadata": {},
   "source": [
    "Write a function to get the largest Fibonacci number that is equal or smaller than a given number.  \n",
    "For example:\n",
    "- Given 2, the functions should return 2\n",
    "- Given 10, the functions should return 8"
   ]
  },
  {
   "cell_type": "code",
   "execution_count": 15,
   "metadata": {},
   "outputs": [
    {
     "name": "stdin",
     "output_type": "stream",
     "text": [
      "Enter you number here: 100\n"
     ]
    },
    {
     "name": "stdout",
     "output_type": "stream",
     "text": [
      "The largest Fibonacci number that is equal or smaller than your number is:  89\n"
     ]
    }
   ],
   "source": [
    "# YOUR CODE HERE\n",
    "number = int(input(\"Enter you number here:\"))\n",
    "\n",
    "i = 0\n",
    "Fibonacci_number = get_Fibonacci_number(i)\n",
    "\n",
    "while number > Fibonacci_number:\n",
    "    i += 1\n",
    "    Fibonacci_number = get_Fibonacci_number(i)\n",
    "else:\n",
    "    Fibonacci_number = get_Fibonacci_number(i-1)\n",
    "    print(\"The largest Fibonacci number that is equal or smaller than your number is: \", Fibonacci_number)"
   ]
  },
  {
   "cell_type": "markdown",
   "metadata": {},
   "source": [
    "# Dictionary"
   ]
  },
  {
   "cell_type": "markdown",
   "metadata": {},
   "source": [
    "A Python ditionary comprises of student numbers as keys and student names as values. Write a function to capitalize all the student names in the dictionary."
   ]
  },
  {
   "cell_type": "code",
   "execution_count": 18,
   "metadata": {},
   "outputs": [
    {
     "data": {
      "text/plain": [
       "{3141: 'JOSE',\n",
       " 5965: 'JAMES',\n",
       " 3589: 'WILLIAM',\n",
       " 7932: 'THERESA',\n",
       " 3846: 'MARIA',\n",
       " 2643: 'LUCY'}"
      ]
     },
     "execution_count": 18,
     "metadata": {},
     "output_type": "execute_result"
    }
   ],
   "source": [
    "# YOUR CODE HERE\n",
    "def capitalize_student_list(students_list):\n",
    "    capitalize_list = {student_id: name.upper() for student_id, name in students_list.items()}\n",
    "    return capitalize_list\n",
    "\n",
    "students = {\n",
    "    3141: \"Jose\",\n",
    "    5965: \"James\",\n",
    "    3589: \"William\",\n",
    "    7932: \"Theresa\",\n",
    "    3846: \"Maria\",\n",
    "    2643: \"Lucy\"    \n",
    "}\n",
    "\n",
    "capitalize_student_list(students)"
   ]
  },
  {
   "cell_type": "markdown",
   "metadata": {},
   "source": [
    "# Character counts\n",
    "\n",
    "Write a function that count the frequencies of each alphabet character in a given string. The function should return a dictionary, in which each key is a character and each value is the corresponding frequency. All characters are treated as their lowercases, meaning 'E' is the same as 'e'.   \n",
    "For example: Calling the function for 'Hello' will return {'h': 1, 'e': 1, 'l': 2, 'o': 1}."
   ]
  },
  {
   "cell_type": "code",
   "execution_count": 20,
   "metadata": {},
   "outputs": [
    {
     "data": {
      "text/plain": [
       "{'a': 1, 'e': 3, 'h': 2, 'i': 1, 'l': 2, 'm': 1, 'o': 1, 'r': 1}"
      ]
     },
     "execution_count": 20,
     "metadata": {},
     "output_type": "execute_result"
    }
   ],
   "source": [
    "# YOUR CODE HERE\n",
    "import string\n",
    "\n",
    "alphabet = list(string.ascii_lowercase) \n",
    "string = \"Hello, I am here\"\n",
    "\n",
    "# DEFINING & CREATING THE FUCTION FOR THE CHARACTER COUNTER DICTIONARY\n",
    "def character_counter_dictionary(string):\n",
    "    dictionary = {}\n",
    "    new_string = string.lower()\n",
    "    for character in alphabet:\n",
    "        counter = new_string.count(character)\n",
    "        if counter > 0:\n",
    "            dictionary[character] = counter\n",
    "    return dictionary\n",
    "\n",
    "# CALLING THE FUNCTION\n",
    "character_counter_dictionary(string)"
   ]
  },
  {
   "cell_type": "markdown",
   "metadata": {},
   "source": [
    "# Extrema (Optional)\n",
    "\n",
    "Given a list of numbers representing a series, count how many time the values change their trends, i.e. from increasing to descreasing and vi versa.  \n",
    "Examples of these changes are:\n",
    "- [0, 2, 1]\n",
    "- [0, -2, -2, 3]"
   ]
  },
  {
   "cell_type": "code",
   "execution_count": 22,
   "metadata": {},
   "outputs": [
    {
     "name": "stdout",
     "output_type": "stream",
     "text": [
      "increasing:  8\n",
      "decreasing:  6\n"
     ]
    }
   ],
   "source": [
    "# YOUR CODE HERE\n",
    "def trend_counter(number_list):\n",
    "# INITIALIZING THE COUNTER FOR BOTH INCREASING AND DECREASING TO 0\n",
    "    index = 1\n",
    "    increasing = 0\n",
    "    decreasing = 0\n",
    "# CALCULATING THE TRENDS\n",
    "    while index < len(number_list):\n",
    "        determinant = number_list[index] - number_list[index-1]\n",
    "        if determinant < 0:\n",
    "            decreasing += 1\n",
    "        elif determinant > 0:\n",
    "            increasing += 1\n",
    "        index += 1\n",
    "\n",
    "    print(\"increasing: \", increasing)\n",
    "    print(\"decreasing: \", decreasing)\n",
    "    return\n",
    "\n",
    "number_list = [3, 1, 4, 1, 5, 9, 2, 6, 5, 3, 5, 8, 9, 7, 9]\n",
    "\n",
    "trend_counter(number_list)"
   ]
  },
  {
   "cell_type": "markdown",
   "metadata": {},
   "source": [
    "# Approximate $\\pi$ (Optional)"
   ]
  },
  {
   "cell_type": "code",
   "execution_count": 24,
   "metadata": {},
   "outputs": [],
   "source": [
    "from random import random"
   ]
  },
  {
   "cell_type": "markdown",
   "metadata": {},
   "source": [
    "One method to approximate the value of $\\pi$ is through simulation. Given the function `random` generates a number in the range $[0,1]$ randomly, write a function to approxmiate $\\pi$.  \n",
    "\n",
    "*Hints:*\n",
    "- $\\pi$ is the area of a cirle with radius of 1.\n",
    "- For any random point in the unit square (positions top-right of the origin), the change of this point belonging to the quarter unit circle is $\\pi/4$"
   ]
  },
  {
   "cell_type": "code",
   "execution_count": null,
   "metadata": {},
   "outputs": [],
   "source": [
    "# YOUR CODE HERE\n"
   ]
  },
  {
   "cell_type": "markdown",
   "metadata": {},
   "source": [
    "# Prime Number (Optional)\n",
    "\n",
    "Recieve a number N from users and return if the number is a Prime number. A prime number is a natural number greater than 1 that is not a product of two smaller natural numbers. In other words, they have only 2 factors: 1 and themselves. \n",
    "Display relavent message if the user entered anything except integer.  \n",
    "\n",
    "Hint: \n",
    "If the number N is devisible by any natural numbers between 2 and the first natural number bigger than $\\sqrt{N}$, the the number is __NOT__ a Prime number. "
   ]
  },
  {
   "cell_type": "code",
   "execution_count": null,
   "metadata": {},
   "outputs": [],
   "source": []
  },
  {
   "cell_type": "markdown",
   "metadata": {},
   "source": []
  }
 ],
 "metadata": {
  "kernelspec": {
   "display_name": "Python 3 (ipykernel)",
   "language": "python",
   "name": "python3"
  },
  "language_info": {
   "codemirror_mode": {
    "name": "ipython",
    "version": 3
   },
   "file_extension": ".py",
   "mimetype": "text/x-python",
   "name": "python",
   "nbconvert_exporter": "python",
   "pygments_lexer": "ipython3",
   "version": "3.11.5"
  },
  "vscode": {
   "interpreter": {
    "hash": "8a2fe6d3f24c831e4ac25973d4dc1bc7deb0e2b006a19b6d82b81e5c2cb0359b"
   }
  }
 },
 "nbformat": 4,
 "nbformat_minor": 4
}
