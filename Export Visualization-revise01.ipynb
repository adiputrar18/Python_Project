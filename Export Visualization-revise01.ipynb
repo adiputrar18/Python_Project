{
 "cells": [
  {
   "cell_type": "markdown",
   "metadata": {},
   "source": [
    "### Export values from the Netherlands to other 5 EU countries"
   ]
  },
  {
   "cell_type": "code",
   "execution_count": 1,
   "metadata": {},
   "outputs": [
    {
     "data": {
      "text/html": [
       "<style type=\"text/css\">\n",
       "#T_cbcb3 th {\n",
       "  border: 1px solid black;\n",
       "}\n",
       "#T_cbcb3 td {\n",
       "  border: 1px solid black;\n",
       "}\n",
       "</style>\n",
       "<table id=\"T_cbcb3\">\n",
       "  <thead>\n",
       "    <tr>\n",
       "      <th class=\"blank level0\" >&nbsp;</th>\n",
       "      <th id=\"T_cbcb3_level0_col0\" class=\"col_heading level0 col0\" >Year, Month</th>\n",
       "      <th id=\"T_cbcb3_level0_col1\" class=\"col_heading level0 col1\" >Price</th>\n",
       "      <th id=\"T_cbcb3_level0_col2\" class=\"col_heading level0 col2\" >Export Germany</th>\n",
       "      <th id=\"T_cbcb3_level0_col3\" class=\"col_heading level0 col3\" >Export Belgium</th>\n",
       "      <th id=\"T_cbcb3_level0_col4\" class=\"col_heading level0 col4\" >Export France</th>\n",
       "      <th id=\"T_cbcb3_level0_col5\" class=\"col_heading level0 col5\" >Export Italy</th>\n",
       "      <th id=\"T_cbcb3_level0_col6\" class=\"col_heading level0 col6\" >Export Poland</th>\n",
       "    </tr>\n",
       "  </thead>\n",
       "  <tbody>\n",
       "    <tr>\n",
       "      <th id=\"T_cbcb3_level0_row0\" class=\"row_heading level0 row0\" >0</th>\n",
       "      <td id=\"T_cbcb3_row0_col0\" class=\"data row0 col0\" >2021 Q1</td>\n",
       "      <td id=\"T_cbcb3_row0_col1\" class=\"data row0 col1\" >60.820000</td>\n",
       "      <td id=\"T_cbcb3_row0_col2\" class=\"data row0 col2\" >44.120000</td>\n",
       "      <td id=\"T_cbcb3_row0_col3\" class=\"data row0 col3\" >21.330000</td>\n",
       "      <td id=\"T_cbcb3_row0_col4\" class=\"data row0 col4\" >17.210000</td>\n",
       "      <td id=\"T_cbcb3_row0_col5\" class=\"data row0 col5\" >8.230000</td>\n",
       "      <td id=\"T_cbcb3_row0_col6\" class=\"data row0 col6\" >6.460000</td>\n",
       "    </tr>\n",
       "    <tr>\n",
       "      <th id=\"T_cbcb3_level0_row1\" class=\"row_heading level0 row1\" >1</th>\n",
       "      <td id=\"T_cbcb3_row1_col0\" class=\"data row1 col0\" >2021 Q2</td>\n",
       "      <td id=\"T_cbcb3_row1_col1\" class=\"data row1 col1\" >68.830000</td>\n",
       "      <td id=\"T_cbcb3_row1_col2\" class=\"data row1 col2\" >46.800000</td>\n",
       "      <td id=\"T_cbcb3_row1_col3\" class=\"data row1 col3\" >22.630000</td>\n",
       "      <td id=\"T_cbcb3_row1_col4\" class=\"data row1 col4\" >17.630000</td>\n",
       "      <td id=\"T_cbcb3_row1_col5\" class=\"data row1 col5\" >8.440000</td>\n",
       "      <td id=\"T_cbcb3_row1_col6\" class=\"data row1 col6\" >6.850000</td>\n",
       "    </tr>\n",
       "    <tr>\n",
       "      <th id=\"T_cbcb3_level0_row2\" class=\"row_heading level0 row2\" >2</th>\n",
       "      <td id=\"T_cbcb3_row2_col0\" class=\"data row2 col0\" >2021 Q3</td>\n",
       "      <td id=\"T_cbcb3_row2_col1\" class=\"data row2 col1\" >73.470000</td>\n",
       "      <td id=\"T_cbcb3_row2_col2\" class=\"data row2 col2\" >47.020000</td>\n",
       "      <td id=\"T_cbcb3_row2_col3\" class=\"data row2 col3\" >22.970000</td>\n",
       "      <td id=\"T_cbcb3_row2_col4\" class=\"data row2 col4\" >17.870000</td>\n",
       "      <td id=\"T_cbcb3_row2_col5\" class=\"data row2 col5\" >8.190000</td>\n",
       "      <td id=\"T_cbcb3_row2_col6\" class=\"data row2 col6\" >6.800000</td>\n",
       "    </tr>\n",
       "    <tr>\n",
       "      <th id=\"T_cbcb3_level0_row3\" class=\"row_heading level0 row3\" >3</th>\n",
       "      <td id=\"T_cbcb3_row3_col0\" class=\"data row3 col0\" >2021 Q4</td>\n",
       "      <td id=\"T_cbcb3_row3_col1\" class=\"data row3 col1\" >79.590000</td>\n",
       "      <td id=\"T_cbcb3_row3_col2\" class=\"data row3 col2\" >50.450000</td>\n",
       "      <td id=\"T_cbcb3_row3_col3\" class=\"data row3 col3\" >24.540000</td>\n",
       "      <td id=\"T_cbcb3_row3_col4\" class=\"data row3 col4\" >19.450000</td>\n",
       "      <td id=\"T_cbcb3_row3_col5\" class=\"data row3 col5\" >9.230000</td>\n",
       "      <td id=\"T_cbcb3_row3_col6\" class=\"data row3 col6\" >7.860000</td>\n",
       "    </tr>\n",
       "    <tr>\n",
       "      <th id=\"T_cbcb3_level0_row4\" class=\"row_heading level0 row4\" >4</th>\n",
       "      <td id=\"T_cbcb3_row4_col0\" class=\"data row4 col0\" >2022 Q1</td>\n",
       "      <td id=\"T_cbcb3_row4_col1\" class=\"data row4 col1\" >100.300000</td>\n",
       "      <td id=\"T_cbcb3_row4_col2\" class=\"data row4 col2\" >52.090000</td>\n",
       "      <td id=\"T_cbcb3_row4_col3\" class=\"data row4 col3\" >25.770000</td>\n",
       "      <td id=\"T_cbcb3_row4_col4\" class=\"data row4 col4\" >18.910000</td>\n",
       "      <td id=\"T_cbcb3_row4_col5\" class=\"data row4 col5\" >9.440000</td>\n",
       "      <td id=\"T_cbcb3_row4_col6\" class=\"data row4 col6\" >7.940000</td>\n",
       "    </tr>\n",
       "    <tr>\n",
       "      <th id=\"T_cbcb3_level0_row5\" class=\"row_heading level0 row5\" >5</th>\n",
       "      <td id=\"T_cbcb3_row5_col0\" class=\"data row5 col0\" >2022 Q2</td>\n",
       "      <td id=\"T_cbcb3_row5_col1\" class=\"data row5 col1\" >113.540000</td>\n",
       "      <td id=\"T_cbcb3_row5_col2\" class=\"data row5 col2\" >54.530000</td>\n",
       "      <td id=\"T_cbcb3_row5_col3\" class=\"data row5 col3\" >27.720000</td>\n",
       "      <td id=\"T_cbcb3_row5_col4\" class=\"data row5 col4\" >19.070000</td>\n",
       "      <td id=\"T_cbcb3_row5_col5\" class=\"data row5 col5\" >9.440000</td>\n",
       "      <td id=\"T_cbcb3_row5_col6\" class=\"data row5 col6\" >7.450000</td>\n",
       "    </tr>\n",
       "    <tr>\n",
       "      <th id=\"T_cbcb3_level0_row6\" class=\"row_heading level0 row6\" >6</th>\n",
       "      <td id=\"T_cbcb3_row6_col0\" class=\"data row6 col0\" >2022 Q3</td>\n",
       "      <td id=\"T_cbcb3_row6_col1\" class=\"data row6 col1\" >100.710000</td>\n",
       "      <td id=\"T_cbcb3_row6_col2\" class=\"data row6 col2\" >52.240000</td>\n",
       "      <td id=\"T_cbcb3_row6_col3\" class=\"data row6 col3\" >25.750000</td>\n",
       "      <td id=\"T_cbcb3_row6_col4\" class=\"data row6 col4\" >18.310000</td>\n",
       "      <td id=\"T_cbcb3_row6_col5\" class=\"data row6 col5\" >8.400000</td>\n",
       "      <td id=\"T_cbcb3_row6_col6\" class=\"data row6 col6\" >7.060000</td>\n",
       "    </tr>\n",
       "    <tr>\n",
       "      <th id=\"T_cbcb3_level0_row7\" class=\"row_heading level0 row7\" >7</th>\n",
       "      <td id=\"T_cbcb3_row7_col0\" class=\"data row7 col0\" >2022 Q4</td>\n",
       "      <td id=\"T_cbcb3_row7_col1\" class=\"data row7 col1\" >88.560000</td>\n",
       "      <td id=\"T_cbcb3_row7_col2\" class=\"data row7 col2\" >51.860000</td>\n",
       "      <td id=\"T_cbcb3_row7_col3\" class=\"data row7 col3\" >26.690000</td>\n",
       "      <td id=\"T_cbcb3_row7_col4\" class=\"data row7 col4\" >20.520000</td>\n",
       "      <td id=\"T_cbcb3_row7_col5\" class=\"data row7 col5\" >8.960000</td>\n",
       "      <td id=\"T_cbcb3_row7_col6\" class=\"data row7 col6\" >7.800000</td>\n",
       "    </tr>\n",
       "    <tr>\n",
       "      <th id=\"T_cbcb3_level0_row8\" class=\"row_heading level0 row8\" >8</th>\n",
       "      <td id=\"T_cbcb3_row8_col0\" class=\"data row8 col0\" >2023 Q1</td>\n",
       "      <td id=\"T_cbcb3_row8_col1\" class=\"data row8 col1\" >81.170000</td>\n",
       "      <td id=\"T_cbcb3_row8_col2\" class=\"data row8 col2\" >55.510000</td>\n",
       "      <td id=\"T_cbcb3_row8_col3\" class=\"data row8 col3\" >26.050000</td>\n",
       "      <td id=\"T_cbcb3_row8_col4\" class=\"data row8 col4\" >19.920000</td>\n",
       "      <td id=\"T_cbcb3_row8_col5\" class=\"data row8 col5\" >9.990000</td>\n",
       "      <td id=\"T_cbcb3_row8_col6\" class=\"data row8 col6\" >8.300000</td>\n",
       "    </tr>\n",
       "    <tr>\n",
       "      <th id=\"T_cbcb3_level0_row9\" class=\"row_heading level0 row9\" >9</th>\n",
       "      <td id=\"T_cbcb3_row9_col0\" class=\"data row9 col0\" >2023 Q2</td>\n",
       "      <td id=\"T_cbcb3_row9_col1\" class=\"data row9 col1\" >78.320000</td>\n",
       "      <td id=\"T_cbcb3_row9_col2\" class=\"data row9 col2\" >53.140000</td>\n",
       "      <td id=\"T_cbcb3_row9_col3\" class=\"data row9 col3\" >25.430000</td>\n",
       "      <td id=\"T_cbcb3_row9_col4\" class=\"data row9 col4\" >19.470000</td>\n",
       "      <td id=\"T_cbcb3_row9_col5\" class=\"data row9 col5\" >9.420000</td>\n",
       "      <td id=\"T_cbcb3_row9_col6\" class=\"data row9 col6\" >7.820000</td>\n",
       "    </tr>\n",
       "    <tr>\n",
       "      <th id=\"T_cbcb3_level0_row10\" class=\"row_heading level0 row10\" >10</th>\n",
       "      <td id=\"T_cbcb3_row10_col0\" class=\"data row10 col0\" >2023 Q3</td>\n",
       "      <td id=\"T_cbcb3_row10_col1\" class=\"data row10 col1\" >86.660000</td>\n",
       "      <td id=\"T_cbcb3_row10_col2\" class=\"data row10 col2\" >51.330000</td>\n",
       "      <td id=\"T_cbcb3_row10_col3\" class=\"data row10 col3\" >26.060000</td>\n",
       "      <td id=\"T_cbcb3_row10_col4\" class=\"data row10 col4\" >18.310000</td>\n",
       "      <td id=\"T_cbcb3_row10_col5\" class=\"data row10 col5\" >8.710000</td>\n",
       "      <td id=\"T_cbcb3_row10_col6\" class=\"data row10 col6\" >7.440000</td>\n",
       "    </tr>\n",
       "    <tr>\n",
       "      <th id=\"T_cbcb3_level0_row11\" class=\"row_heading level0 row11\" >11</th>\n",
       "      <td id=\"T_cbcb3_row11_col0\" class=\"data row11 col0\" >2023 Q4</td>\n",
       "      <td id=\"T_cbcb3_row11_col1\" class=\"data row11 col1\" >83.720000</td>\n",
       "      <td id=\"T_cbcb3_row11_col2\" class=\"data row11 col2\" >50.630000</td>\n",
       "      <td id=\"T_cbcb3_row11_col3\" class=\"data row11 col3\" >25.900000</td>\n",
       "      <td id=\"T_cbcb3_row11_col4\" class=\"data row11 col4\" >19.700000</td>\n",
       "      <td id=\"T_cbcb3_row11_col5\" class=\"data row11 col5\" >9.560000</td>\n",
       "      <td id=\"T_cbcb3_row11_col6\" class=\"data row11 col6\" >8.180000</td>\n",
       "    </tr>\n",
       "  </tbody>\n",
       "</table>\n"
      ],
      "text/plain": [
       "<pandas.io.formats.style.Styler at 0x1b85a9e9760>"
      ]
     },
     "execution_count": 1,
     "metadata": {},
     "output_type": "execute_result"
    }
   ],
   "source": [
    "import pandas as pd\n",
    "\n",
    "# Load the Summarized dataset into a DataFrame for Export value information\n",
    "export_data = pd.read_csv('data/Summarized Data.csv', usecols=['Year, Month', 'Price', 'Export Germany', 'Export Belgium', 'Export France', 'Export Italy', 'Export Poland']).dropna()\n",
    "\n",
    "# Apply border styling\n",
    "styled_df = export_data.style.set_table_styles(\n",
    "    [{'selector': 'th', 'props': [('border', '1px solid black')]},\n",
    "     {'selector': 'td', 'props': [('border', '1px solid black')]}]\n",
    ")\n",
    "\n",
    "# Display the styled table\n",
    "styled_df"
   ]
  },
  {
   "cell_type": "code",
   "execution_count": 2,
   "metadata": {},
   "outputs": [
    {
     "data": {
      "text/html": [
       "<style type=\"text/css\">\n",
       "#T_44c74 th {\n",
       "  border: 1px solid black;\n",
       "}\n",
       "#T_44c74 td {\n",
       "  border: 1px solid black;\n",
       "}\n",
       "</style>\n",
       "<table id=\"T_44c74\">\n",
       "  <thead>\n",
       "    <tr>\n",
       "      <th class=\"blank level0\" >&nbsp;</th>\n",
       "      <th id=\"T_44c74_level0_col0\" class=\"col_heading level0 col0\" >Country</th>\n",
       "      <th id=\"T_44c74_level0_col1\" class=\"col_heading level0 col1\" >Total Export Value from the Netherlands</th>\n",
       "    </tr>\n",
       "  </thead>\n",
       "  <tbody>\n",
       "    <tr>\n",
       "      <th id=\"T_44c74_level0_row0\" class=\"row_heading level0 row0\" >0</th>\n",
       "      <td id=\"T_44c74_row0_col0\" class=\"data row0 col0\" >Export Germany</td>\n",
       "      <td id=\"T_44c74_row0_col1\" class=\"data row0 col1\" >609.720000</td>\n",
       "    </tr>\n",
       "    <tr>\n",
       "      <th id=\"T_44c74_level0_row1\" class=\"row_heading level0 row1\" >1</th>\n",
       "      <td id=\"T_44c74_row1_col0\" class=\"data row1 col0\" >Export Belgium</td>\n",
       "      <td id=\"T_44c74_row1_col1\" class=\"data row1 col1\" >300.840000</td>\n",
       "    </tr>\n",
       "    <tr>\n",
       "      <th id=\"T_44c74_level0_row2\" class=\"row_heading level0 row2\" >2</th>\n",
       "      <td id=\"T_44c74_row2_col0\" class=\"data row2 col0\" >Export France</td>\n",
       "      <td id=\"T_44c74_row2_col1\" class=\"data row2 col1\" >226.370000</td>\n",
       "    </tr>\n",
       "    <tr>\n",
       "      <th id=\"T_44c74_level0_row3\" class=\"row_heading level0 row3\" >3</th>\n",
       "      <td id=\"T_44c74_row3_col0\" class=\"data row3 col0\" >Export Italy</td>\n",
       "      <td id=\"T_44c74_row3_col1\" class=\"data row3 col1\" >108.010000</td>\n",
       "    </tr>\n",
       "    <tr>\n",
       "      <th id=\"T_44c74_level0_row4\" class=\"row_heading level0 row4\" >4</th>\n",
       "      <td id=\"T_44c74_row4_col0\" class=\"data row4 col0\" >Export Poland</td>\n",
       "      <td id=\"T_44c74_row4_col1\" class=\"data row4 col1\" >89.960000</td>\n",
       "    </tr>\n",
       "  </tbody>\n",
       "</table>\n"
      ],
      "text/plain": [
       "<pandas.io.formats.style.Styler at 0x1b85ceeb980>"
      ]
     },
     "execution_count": 2,
     "metadata": {},
     "output_type": "execute_result"
    }
   ],
   "source": [
    "total_exports = export_data[['Export Germany', 'Export Belgium', 'Export France', 'Export Italy', 'Export Poland']].sum()\n",
    "\n",
    "sum_exports_df = pd.DataFrame({\n",
    "    'Country': total_exports.index,\n",
    "    'Total Export Value from the Netherlands': total_exports.values\n",
    "})\n",
    "\n",
    "sum_exports_df = sum_exports_df.sort_values(by='Total Export Value from the Netherlands', ascending=False)\n",
    "\n",
    "sum_exports_df.reset_index(drop=True, inplace=True)\n",
    "\n",
    "styled_sum_df = sum_exports_df.style.set_table_styles(\n",
    "    [{'selector': 'th', 'props': [('border', '1px solid black')]},\n",
    "     {'selector': 'td', 'props': [('border', '1px solid black')]}]\n",
    ")\n",
    "\n",
    "styled_sum_df"
   ]
  },
  {
   "cell_type": "markdown",
   "metadata": {},
   "source": [
    "Considering independently the total export value from the Netherlands of these five EU countries, it underscores the importance of proximity and economic integration in shaping export patterns. Countries that are geographically closer and have stronger infrastructural ties to the Netherlands, such as Germany and Belgium, tend to command higher total export values. The export patterns also highlight the role of major EU economies (Germany and France) as primary trade partners, with smaller or more distant markets (Italy and Poland) playing a secondary role in Dutch export strategy."
   ]
  },
  {
   "cell_type": "code",
   "execution_count": 3,
   "metadata": {},
   "outputs": [
    {
     "data": {
      "application/vnd.plotly.v1+json": {
       "config": {
        "plotlyServerURL": "https://plot.ly"
       },
       "data": [
        {
         "mode": "lines",
         "name": "Export Germany",
         "type": "scatter",
         "x": [
          "2021 Q1",
          "2021 Q2",
          "2021 Q3",
          "2021 Q4",
          "2022 Q1",
          "2022 Q2",
          "2022 Q3",
          "2022 Q4",
          "2023 Q1",
          "2023 Q2",
          "2023 Q3",
          "2023 Q4"
         ],
         "xaxis": "x",
         "y": [
          44.12,
          46.8,
          47.02,
          50.45,
          52.09,
          54.53,
          52.24,
          51.86,
          55.51,
          53.14,
          51.33,
          50.63
         ],
         "yaxis": "y"
        },
        {
         "mode": "lines",
         "name": "Export Belgium",
         "type": "scatter",
         "x": [
          "2021 Q1",
          "2021 Q2",
          "2021 Q3",
          "2021 Q4",
          "2022 Q1",
          "2022 Q2",
          "2022 Q3",
          "2022 Q4",
          "2023 Q1",
          "2023 Q2",
          "2023 Q3",
          "2023 Q4"
         ],
         "xaxis": "x",
         "y": [
          21.33,
          22.63,
          22.97,
          24.54,
          25.77,
          27.72,
          25.75,
          26.69,
          26.05,
          25.43,
          26.06,
          25.9
         ],
         "yaxis": "y"
        },
        {
         "mode": "lines",
         "name": "Export France",
         "type": "scatter",
         "x": [
          "2021 Q1",
          "2021 Q2",
          "2021 Q3",
          "2021 Q4",
          "2022 Q1",
          "2022 Q2",
          "2022 Q3",
          "2022 Q4",
          "2023 Q1",
          "2023 Q2",
          "2023 Q3",
          "2023 Q4"
         ],
         "xaxis": "x",
         "y": [
          17.21,
          17.63,
          17.87,
          19.45,
          18.91,
          19.07,
          18.31,
          20.52,
          19.92,
          19.47,
          18.31,
          19.7
         ],
         "yaxis": "y"
        },
        {
         "mode": "lines",
         "name": "Export Italy",
         "type": "scatter",
         "x": [
          "2021 Q1",
          "2021 Q2",
          "2021 Q3",
          "2021 Q4",
          "2022 Q1",
          "2022 Q2",
          "2022 Q3",
          "2022 Q4",
          "2023 Q1",
          "2023 Q2",
          "2023 Q3",
          "2023 Q4"
         ],
         "xaxis": "x",
         "y": [
          8.23,
          8.44,
          8.19,
          9.23,
          9.44,
          9.44,
          8.4,
          8.96,
          9.99,
          9.42,
          8.71,
          9.56
         ],
         "yaxis": "y"
        },
        {
         "mode": "lines",
         "name": "Export Poland",
         "type": "scatter",
         "x": [
          "2021 Q1",
          "2021 Q2",
          "2021 Q3",
          "2021 Q4",
          "2022 Q1",
          "2022 Q2",
          "2022 Q3",
          "2022 Q4",
          "2023 Q1",
          "2023 Q2",
          "2023 Q3",
          "2023 Q4"
         ],
         "xaxis": "x",
         "y": [
          6.46,
          6.85,
          6.8,
          7.86,
          7.94,
          7.45,
          7.06,
          7.8,
          8.3,
          7.82,
          7.44,
          8.18
         ],
         "yaxis": "y"
        },
        {
         "mode": "lines",
         "name": "Oil Price",
         "type": "scatter",
         "x": [
          "2021 Q1",
          "2021 Q2",
          "2021 Q3",
          "2021 Q4",
          "2022 Q1",
          "2022 Q2",
          "2022 Q3",
          "2022 Q4",
          "2023 Q1",
          "2023 Q2",
          "2023 Q3",
          "2023 Q4"
         ],
         "xaxis": "x",
         "y": [
          60.82,
          68.83,
          73.47,
          79.59,
          100.3,
          113.54,
          100.71,
          88.56,
          81.17,
          78.32,
          86.66,
          83.72
         ],
         "yaxis": "y2"
        }
       ],
       "layout": {
        "template": {
         "data": {
          "bar": [
           {
            "error_x": {
             "color": "#2a3f5f"
            },
            "error_y": {
             "color": "#2a3f5f"
            },
            "marker": {
             "line": {
              "color": "#E5ECF6",
              "width": 0.5
             },
             "pattern": {
              "fillmode": "overlay",
              "size": 10,
              "solidity": 0.2
             }
            },
            "type": "bar"
           }
          ],
          "barpolar": [
           {
            "marker": {
             "line": {
              "color": "#E5ECF6",
              "width": 0.5
             },
             "pattern": {
              "fillmode": "overlay",
              "size": 10,
              "solidity": 0.2
             }
            },
            "type": "barpolar"
           }
          ],
          "carpet": [
           {
            "aaxis": {
             "endlinecolor": "#2a3f5f",
             "gridcolor": "white",
             "linecolor": "white",
             "minorgridcolor": "white",
             "startlinecolor": "#2a3f5f"
            },
            "baxis": {
             "endlinecolor": "#2a3f5f",
             "gridcolor": "white",
             "linecolor": "white",
             "minorgridcolor": "white",
             "startlinecolor": "#2a3f5f"
            },
            "type": "carpet"
           }
          ],
          "choropleth": [
           {
            "colorbar": {
             "outlinewidth": 0,
             "ticks": ""
            },
            "type": "choropleth"
           }
          ],
          "contour": [
           {
            "colorbar": {
             "outlinewidth": 0,
             "ticks": ""
            },
            "colorscale": [
             [
              0,
              "#0d0887"
             ],
             [
              0.1111111111111111,
              "#46039f"
             ],
             [
              0.2222222222222222,
              "#7201a8"
             ],
             [
              0.3333333333333333,
              "#9c179e"
             ],
             [
              0.4444444444444444,
              "#bd3786"
             ],
             [
              0.5555555555555556,
              "#d8576b"
             ],
             [
              0.6666666666666666,
              "#ed7953"
             ],
             [
              0.7777777777777778,
              "#fb9f3a"
             ],
             [
              0.8888888888888888,
              "#fdca26"
             ],
             [
              1,
              "#f0f921"
             ]
            ],
            "type": "contour"
           }
          ],
          "contourcarpet": [
           {
            "colorbar": {
             "outlinewidth": 0,
             "ticks": ""
            },
            "type": "contourcarpet"
           }
          ],
          "heatmap": [
           {
            "colorbar": {
             "outlinewidth": 0,
             "ticks": ""
            },
            "colorscale": [
             [
              0,
              "#0d0887"
             ],
             [
              0.1111111111111111,
              "#46039f"
             ],
             [
              0.2222222222222222,
              "#7201a8"
             ],
             [
              0.3333333333333333,
              "#9c179e"
             ],
             [
              0.4444444444444444,
              "#bd3786"
             ],
             [
              0.5555555555555556,
              "#d8576b"
             ],
             [
              0.6666666666666666,
              "#ed7953"
             ],
             [
              0.7777777777777778,
              "#fb9f3a"
             ],
             [
              0.8888888888888888,
              "#fdca26"
             ],
             [
              1,
              "#f0f921"
             ]
            ],
            "type": "heatmap"
           }
          ],
          "heatmapgl": [
           {
            "colorbar": {
             "outlinewidth": 0,
             "ticks": ""
            },
            "colorscale": [
             [
              0,
              "#0d0887"
             ],
             [
              0.1111111111111111,
              "#46039f"
             ],
             [
              0.2222222222222222,
              "#7201a8"
             ],
             [
              0.3333333333333333,
              "#9c179e"
             ],
             [
              0.4444444444444444,
              "#bd3786"
             ],
             [
              0.5555555555555556,
              "#d8576b"
             ],
             [
              0.6666666666666666,
              "#ed7953"
             ],
             [
              0.7777777777777778,
              "#fb9f3a"
             ],
             [
              0.8888888888888888,
              "#fdca26"
             ],
             [
              1,
              "#f0f921"
             ]
            ],
            "type": "heatmapgl"
           }
          ],
          "histogram": [
           {
            "marker": {
             "pattern": {
              "fillmode": "overlay",
              "size": 10,
              "solidity": 0.2
             }
            },
            "type": "histogram"
           }
          ],
          "histogram2d": [
           {
            "colorbar": {
             "outlinewidth": 0,
             "ticks": ""
            },
            "colorscale": [
             [
              0,
              "#0d0887"
             ],
             [
              0.1111111111111111,
              "#46039f"
             ],
             [
              0.2222222222222222,
              "#7201a8"
             ],
             [
              0.3333333333333333,
              "#9c179e"
             ],
             [
              0.4444444444444444,
              "#bd3786"
             ],
             [
              0.5555555555555556,
              "#d8576b"
             ],
             [
              0.6666666666666666,
              "#ed7953"
             ],
             [
              0.7777777777777778,
              "#fb9f3a"
             ],
             [
              0.8888888888888888,
              "#fdca26"
             ],
             [
              1,
              "#f0f921"
             ]
            ],
            "type": "histogram2d"
           }
          ],
          "histogram2dcontour": [
           {
            "colorbar": {
             "outlinewidth": 0,
             "ticks": ""
            },
            "colorscale": [
             [
              0,
              "#0d0887"
             ],
             [
              0.1111111111111111,
              "#46039f"
             ],
             [
              0.2222222222222222,
              "#7201a8"
             ],
             [
              0.3333333333333333,
              "#9c179e"
             ],
             [
              0.4444444444444444,
              "#bd3786"
             ],
             [
              0.5555555555555556,
              "#d8576b"
             ],
             [
              0.6666666666666666,
              "#ed7953"
             ],
             [
              0.7777777777777778,
              "#fb9f3a"
             ],
             [
              0.8888888888888888,
              "#fdca26"
             ],
             [
              1,
              "#f0f921"
             ]
            ],
            "type": "histogram2dcontour"
           }
          ],
          "mesh3d": [
           {
            "colorbar": {
             "outlinewidth": 0,
             "ticks": ""
            },
            "type": "mesh3d"
           }
          ],
          "parcoords": [
           {
            "line": {
             "colorbar": {
              "outlinewidth": 0,
              "ticks": ""
             }
            },
            "type": "parcoords"
           }
          ],
          "pie": [
           {
            "automargin": true,
            "type": "pie"
           }
          ],
          "scatter": [
           {
            "fillpattern": {
             "fillmode": "overlay",
             "size": 10,
             "solidity": 0.2
            },
            "type": "scatter"
           }
          ],
          "scatter3d": [
           {
            "line": {
             "colorbar": {
              "outlinewidth": 0,
              "ticks": ""
             }
            },
            "marker": {
             "colorbar": {
              "outlinewidth": 0,
              "ticks": ""
             }
            },
            "type": "scatter3d"
           }
          ],
          "scattercarpet": [
           {
            "marker": {
             "colorbar": {
              "outlinewidth": 0,
              "ticks": ""
             }
            },
            "type": "scattercarpet"
           }
          ],
          "scattergeo": [
           {
            "marker": {
             "colorbar": {
              "outlinewidth": 0,
              "ticks": ""
             }
            },
            "type": "scattergeo"
           }
          ],
          "scattergl": [
           {
            "marker": {
             "colorbar": {
              "outlinewidth": 0,
              "ticks": ""
             }
            },
            "type": "scattergl"
           }
          ],
          "scattermapbox": [
           {
            "marker": {
             "colorbar": {
              "outlinewidth": 0,
              "ticks": ""
             }
            },
            "type": "scattermapbox"
           }
          ],
          "scatterpolar": [
           {
            "marker": {
             "colorbar": {
              "outlinewidth": 0,
              "ticks": ""
             }
            },
            "type": "scatterpolar"
           }
          ],
          "scatterpolargl": [
           {
            "marker": {
             "colorbar": {
              "outlinewidth": 0,
              "ticks": ""
             }
            },
            "type": "scatterpolargl"
           }
          ],
          "scatterternary": [
           {
            "marker": {
             "colorbar": {
              "outlinewidth": 0,
              "ticks": ""
             }
            },
            "type": "scatterternary"
           }
          ],
          "surface": [
           {
            "colorbar": {
             "outlinewidth": 0,
             "ticks": ""
            },
            "colorscale": [
             [
              0,
              "#0d0887"
             ],
             [
              0.1111111111111111,
              "#46039f"
             ],
             [
              0.2222222222222222,
              "#7201a8"
             ],
             [
              0.3333333333333333,
              "#9c179e"
             ],
             [
              0.4444444444444444,
              "#bd3786"
             ],
             [
              0.5555555555555556,
              "#d8576b"
             ],
             [
              0.6666666666666666,
              "#ed7953"
             ],
             [
              0.7777777777777778,
              "#fb9f3a"
             ],
             [
              0.8888888888888888,
              "#fdca26"
             ],
             [
              1,
              "#f0f921"
             ]
            ],
            "type": "surface"
           }
          ],
          "table": [
           {
            "cells": {
             "fill": {
              "color": "#EBF0F8"
             },
             "line": {
              "color": "white"
             }
            },
            "header": {
             "fill": {
              "color": "#C8D4E3"
             },
             "line": {
              "color": "white"
             }
            },
            "type": "table"
           }
          ]
         },
         "layout": {
          "annotationdefaults": {
           "arrowcolor": "#2a3f5f",
           "arrowhead": 0,
           "arrowwidth": 1
          },
          "autotypenumbers": "strict",
          "coloraxis": {
           "colorbar": {
            "outlinewidth": 0,
            "ticks": ""
           }
          },
          "colorscale": {
           "diverging": [
            [
             0,
             "#8e0152"
            ],
            [
             0.1,
             "#c51b7d"
            ],
            [
             0.2,
             "#de77ae"
            ],
            [
             0.3,
             "#f1b6da"
            ],
            [
             0.4,
             "#fde0ef"
            ],
            [
             0.5,
             "#f7f7f7"
            ],
            [
             0.6,
             "#e6f5d0"
            ],
            [
             0.7,
             "#b8e186"
            ],
            [
             0.8,
             "#7fbc41"
            ],
            [
             0.9,
             "#4d9221"
            ],
            [
             1,
             "#276419"
            ]
           ],
           "sequential": [
            [
             0,
             "#0d0887"
            ],
            [
             0.1111111111111111,
             "#46039f"
            ],
            [
             0.2222222222222222,
             "#7201a8"
            ],
            [
             0.3333333333333333,
             "#9c179e"
            ],
            [
             0.4444444444444444,
             "#bd3786"
            ],
            [
             0.5555555555555556,
             "#d8576b"
            ],
            [
             0.6666666666666666,
             "#ed7953"
            ],
            [
             0.7777777777777778,
             "#fb9f3a"
            ],
            [
             0.8888888888888888,
             "#fdca26"
            ],
            [
             1,
             "#f0f921"
            ]
           ],
           "sequentialminus": [
            [
             0,
             "#0d0887"
            ],
            [
             0.1111111111111111,
             "#46039f"
            ],
            [
             0.2222222222222222,
             "#7201a8"
            ],
            [
             0.3333333333333333,
             "#9c179e"
            ],
            [
             0.4444444444444444,
             "#bd3786"
            ],
            [
             0.5555555555555556,
             "#d8576b"
            ],
            [
             0.6666666666666666,
             "#ed7953"
            ],
            [
             0.7777777777777778,
             "#fb9f3a"
            ],
            [
             0.8888888888888888,
             "#fdca26"
            ],
            [
             1,
             "#f0f921"
            ]
           ]
          },
          "colorway": [
           "#636efa",
           "#EF553B",
           "#00cc96",
           "#ab63fa",
           "#FFA15A",
           "#19d3f3",
           "#FF6692",
           "#B6E880",
           "#FF97FF",
           "#FECB52"
          ],
          "font": {
           "color": "#2a3f5f"
          },
          "geo": {
           "bgcolor": "white",
           "lakecolor": "white",
           "landcolor": "#E5ECF6",
           "showlakes": true,
           "showland": true,
           "subunitcolor": "white"
          },
          "hoverlabel": {
           "align": "left"
          },
          "hovermode": "closest",
          "mapbox": {
           "style": "light"
          },
          "paper_bgcolor": "white",
          "plot_bgcolor": "#E5ECF6",
          "polar": {
           "angularaxis": {
            "gridcolor": "white",
            "linecolor": "white",
            "ticks": ""
           },
           "bgcolor": "#E5ECF6",
           "radialaxis": {
            "gridcolor": "white",
            "linecolor": "white",
            "ticks": ""
           }
          },
          "scene": {
           "xaxis": {
            "backgroundcolor": "#E5ECF6",
            "gridcolor": "white",
            "gridwidth": 2,
            "linecolor": "white",
            "showbackground": true,
            "ticks": "",
            "zerolinecolor": "white"
           },
           "yaxis": {
            "backgroundcolor": "#E5ECF6",
            "gridcolor": "white",
            "gridwidth": 2,
            "linecolor": "white",
            "showbackground": true,
            "ticks": "",
            "zerolinecolor": "white"
           },
           "zaxis": {
            "backgroundcolor": "#E5ECF6",
            "gridcolor": "white",
            "gridwidth": 2,
            "linecolor": "white",
            "showbackground": true,
            "ticks": "",
            "zerolinecolor": "white"
           }
          },
          "shapedefaults": {
           "line": {
            "color": "#2a3f5f"
           }
          },
          "ternary": {
           "aaxis": {
            "gridcolor": "white",
            "linecolor": "white",
            "ticks": ""
           },
           "baxis": {
            "gridcolor": "white",
            "linecolor": "white",
            "ticks": ""
           },
           "bgcolor": "#E5ECF6",
           "caxis": {
            "gridcolor": "white",
            "linecolor": "white",
            "ticks": ""
           }
          },
          "title": {
           "x": 0.05
          },
          "xaxis": {
           "automargin": true,
           "gridcolor": "white",
           "linecolor": "white",
           "ticks": "",
           "title": {
            "standoff": 15
           },
           "zerolinecolor": "white",
           "zerolinewidth": 2
          },
          "yaxis": {
           "automargin": true,
           "gridcolor": "white",
           "linecolor": "white",
           "ticks": "",
           "title": {
            "standoff": 15
           },
           "zerolinecolor": "white",
           "zerolinewidth": 2
          }
         }
        },
        "title": {
         "text": "Export Values by Country and Price Over Time"
        },
        "xaxis": {
         "anchor": "y",
         "domain": [
          0,
          0.94
         ],
         "showgrid": true,
         "tickangle": 45,
         "title": {
          "text": "Year, Quarter"
         }
        },
        "yaxis": {
         "anchor": "x",
         "domain": [
          0,
          1
         ],
         "showgrid": true,
         "title": {
          "text": "Export Values (in Million USD)"
         }
        },
        "yaxis2": {
         "anchor": "x",
         "overlaying": "y",
         "side": "right",
         "title": {
          "text": "Oil Price (in USD)"
         }
        }
       }
      }
     },
     "metadata": {},
     "output_type": "display_data"
    }
   ],
   "source": [
    "# Visualization of total Export values from the Netherlands to other 5 EU countries\n",
    "\n",
    "import plotly.graph_objects as go\n",
    "from plotly.subplots import make_subplots\n",
    "\n",
    "# Create a subplot with secondary y-axis\n",
    "fig = make_subplots(specs=[[{\"secondary_y\": True}]])\n",
    "\n",
    "# Add import data lines for each country\n",
    "countries = export_data.columns[2:7].tolist()\n",
    "\n",
    "for i, country in enumerate(countries):\n",
    "    fig.add_trace(\n",
    "        go.Scatter(x=export_data['Year, Month'], y=export_data[country],\n",
    "                   mode='lines',\n",
    "                   name=country),\n",
    "        secondary_y=False,\n",
    "    )\n",
    "\n",
    "# Add Price line\n",
    "fig.add_trace(\n",
    "    go.Scatter(x=export_data['Year, Month'], y=export_data['Price'],\n",
    "               mode='lines',\n",
    "               name='Oil Price'),\n",
    "    secondary_y=True,\n",
    ")\n",
    "\n",
    "# Update layout\n",
    "fig.update_layout(\n",
    "    title='Export Values by Country and Price Over Time', \n",
    "    xaxis=dict(showgrid=True, tickangle=45),\n",
    "    yaxis=dict(showgrid=True),\n",
    "    xaxis_title='Year, Quarter',\n",
    "    yaxis_title='Export Values (in Million USD)',\n",
    "    yaxis2_title='Oil Price (in USD)',\n",
    ")\n",
    "\n",
    "# Show the figure\n",
    "fig.show()\n"
   ]
  },
  {
   "cell_type": "markdown",
   "metadata": {},
   "source": [
    "The below graph represents the notable yet complex impact of the oil price fluctuations to the export activities of the Netherlands with other five key EU countries - Germany, Belgium, France, Italy and Poland. In the first half of the examined period, as oil prices surged sharply from $60.82 in 2021 Q1 to $113.54 in 2022 Q2, we observe a corresponding increase in export values from the Netherlands to all five countries. More specifically, export values to Germany rose from 44.12 thousand USD to 54.53 thousand USD, while Belgium and France experienced less dramatic increases during the same period. This implies that although higher oil prices leads to the rising costs, the demand for Dutch exports remained robust, likely fueled by strong economic recovery post-pandemic and resilient trade relationships.\n",
    "\n",
    "Following the peak of oil prices in 2022 Q2, a decoupling effect becomes evident. While oil prices began to drop significantly after 2022 Q2, export values to most of the countries did not experience a similarly sharp decline. Instead, they remained relatively stable, especially in countries like Germany, where exports slightly dropped but stayed at high levels. For example, exports to Germany and Belgium settled at 50.63 thousand USD and 25.90 thousand USD respectively by 2023 Q4. It could suggest that once economies adapted to the high energy costs, export flows normalized and remained consistent. Despite falling oil prices, this stabilization represents the fact that other economic factors, such as demand, trade agreements, or industrial dependencies also play a significant role in shaping the export trends and even potentially buffering the impact of oil price changes.\n",
    "\n",
    "Overall, the data shows that oil prices had an initial influence on export values, particularly during the price surge from 2021 Q1 to 2022 Q2, but as prices began to fall, the export values stabilized. This indicates that while oil prices can affect trade dynamics in the short term, the long-term demand for Dutch exports is resilient, and not solely dependent on fluctuations in oil prices. The sustained demand, especially from Germany, Belgium, and France, highlights the strength of economic ties and suggests that these countries were able to absorb the price shocks without significantly reducing their imports."
   ]
  },
  {
   "cell_type": "markdown",
   "metadata": {},
   "source": []
  }
 ],
 "metadata": {
  "kernelspec": {
   "display_name": "TIL6022",
   "language": "python",
   "name": "python3"
  },
  "language_info": {
   "codemirror_mode": {
    "name": "ipython",
    "version": 3
   },
   "file_extension": ".py",
   "mimetype": "text/x-python",
   "name": "python",
   "nbconvert_exporter": "python",
   "pygments_lexer": "ipython3",
   "version": "3.12.5"
  }
 },
 "nbformat": 4,
 "nbformat_minor": 2
}
